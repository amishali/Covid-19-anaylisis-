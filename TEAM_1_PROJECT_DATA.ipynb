{
  "nbformat": 4,
  "nbformat_minor": 0,
  "metadata": {
    "colab": {
      "name": "TEAM_1_PROJECT_DATA",
      "provenance": [],
      "collapsed_sections": [],
      "toc_visible": true,
      "include_colab_link": true
    },
    "kernelspec": {
      "name": "python3",
      "display_name": "Python 3"
    }
  },
  "cells": [
    {
      "cell_type": "markdown",
      "metadata": {
        "id": "view-in-github",
        "colab_type": "text"
      },
      "source": [
        "<a href=\"https://colab.research.google.com/github/amishali/Covid-19-anaylisis-/blob/master/TEAM_1_PROJECT_DATA.ipynb\" target=\"_parent\"><img src=\"https://colab.research.google.com/assets/colab-badge.svg\" alt=\"Open In Colab\"/></a>"
      ]
    },
    {
      "cell_type": "markdown",
      "metadata": {
        "id": "0POnAbtqZ7xN",
        "colab_type": "text"
      },
      "source": [
        "# BUSINESSS UNDERSTANDING\n",
        "\n",
        "\n"
      ]
    },
    {
      "cell_type": "markdown",
      "metadata": {
        "id": "HslucVq1zs1Z",
        "colab_type": "text"
      },
      "source": [
        "## 1.0 Project objective\n",
        "Ranking  counties in Kenya on COVID -19 preparedness. \n"
      ]
    },
    {
      "cell_type": "markdown",
      "metadata": {
        "id": "nnNaL2_z1JUS",
        "colab_type": "text"
      },
      "source": [
        "## 1.1 Explorative Research Design\n",
        "\n",
        "1. Load datasets\n",
        "2. Investigate data quality - Check for missing values, uniformity of column naming, checking for duplicates\n",
        "3. Drop null values\n",
        "4. Drop duplicates\n",
        "5. Drop unnecessary columns and rows\n",
        "6. Merge dataframes\n",
        "1. Get difference between recommended isolation beds and bed available (Create rank variable based on bed preparedness - a larger value signifies larger deficit in number of beds hence lower rank)\n",
        "2. Calculate bed to population ratio\n",
        "3. Rank counties based on hospital count,( a higher hospital count signifies better capacity handling hence higher rank)\n",
        "4. Rank counties based on cumulative cases,( a higher number signifies a higher probability of infections hence lower rank in preparedness)\n",
        "5.  Rank counties based on density [number of people per sq km],( a higher number signifies a higher probability of infections hence lower rank in preparedness)\n",
        "6. Rank counties based on bed to population ratio,( a higher ratio means fewer people are assigned to one bed hence better preparedness hence higher rank)\n",
        "7. Compute aggregate ranking of counties ,(Order counties by aggregate ranking)\n",
        "\n"
      ]
    },
    {
      "cell_type": "markdown",
      "metadata": {
        "id": "w_LSEXOdeyiW",
        "colab_type": "text"
      },
      "source": [
        "## 1.2 Metrics for Success\n",
        " \n",
        "Analysis will be deemed successful if the following are questions are answered:\n",
        "- Which are the top 5 best prepared counties?\n",
        "- Which are the top 5 worst prepared counties?\n",
        "- Among worst prepared counties, which county has the lowest bed to population ratio?\n",
        "- Which county has the lowest bed to population ratio overall?\n",
        "-  Among worst prepared counties, which county has the highest density [number of people per sq km]?"
      ]
    },
    {
      "cell_type": "markdown",
      "metadata": {
        "id": "HoCtVIo8aGP8",
        "colab_type": "text"
      },
      "source": [
        "# DATA UNDERSTANDING"
      ]
    },
    {
      "cell_type": "markdown",
      "metadata": {
        "id": "OGADxrkXwBi1",
        "colab_type": "text"
      },
      "source": [
        "## 2.0 DATA SOURCE\n",
        "\n",
        "\n",
        "\n",
        "There are 4 datasets to be used in the anaylisis\n",
        " 1. Population per county dataset -- availed by\n",
        "  https://data.humdata.org/dataset/26801642-7088-4149-9605-6ae282897937/resource/bfe30344-5fb4-45dd-b1d1-565690aba5fc/download/2019_knbs_kenya_population_census_admins_17dec2019.xlsx\n",
        "\n",
        " 2. Kenya health facilities -- availed by kaggle hospital list\n",
        "  https://storage.googleapis.com/kaggle-forum-message-attachments/154760/5739/KEN%20Health_Facilities.csv\n",
        " \n",
        "3. ICU beds per county -- availed by http://khf.co.ke/covid-19-treatment-centers/\n",
        "\n",
        "\n",
        "4. Cases per county(as at 23rd July)  -- availed by \n",
        "https://www.health.go.ke/wp-content/uploads/2020/07/Kenya-COVID-19-SITREP-1\n",
        "27-22-Jul-2020.pdf\n"
      ]
    },
    {
      "cell_type": "markdown",
      "metadata": {
        "id": "KDCqMEdB7KBr",
        "colab_type": "text"
      },
      "source": [
        "## 2.1 Importing Library"
      ]
    },
    {
      "cell_type": "code",
      "metadata": {
        "id": "9v-0yzp3ajGn",
        "colab_type": "code",
        "colab": {
          "base_uri": "https://localhost:8080/",
          "height": 70
        },
        "outputId": "8de3accf-92e5-42e4-dac3-7f1c137ab57d"
      },
      "source": [
        "# Importing required libraries\n",
        "import pandas as pd\n",
        "import numpy as np\n",
        "\n",
        "# For visualization\n",
        "import seaborn as sns\n",
        "import matplotlib.pyplot as plt\n"
      ],
      "execution_count": null,
      "outputs": [
        {
          "output_type": "stream",
          "text": [
            "/usr/local/lib/python3.6/dist-packages/statsmodels/tools/_testing.py:19: FutureWarning: pandas.util.testing is deprecated. Use the functions in the public API at pandas.testing instead.\n",
            "  import pandas.util.testing as tm\n"
          ],
          "name": "stderr"
        }
      ]
    },
    {
      "cell_type": "markdown",
      "metadata": {
        "id": "DzYK3-aQ7R0f",
        "colab_type": "text"
      },
      "source": [
        "## 2.2 Loading Datasets"
      ]
    },
    {
      "cell_type": "code",
      "metadata": {
        "colab_type": "code",
        "id": "5idPlvhjlL5R",
        "colab": {
          "base_uri": "https://localhost:8080/",
          "height": 207
        },
        "outputId": "dec93813-f427-4a08-ba5b-d4b12dcfde55"
      },
      "source": [
        "# Load population data\n",
        "county_population = pd.read_csv('census2019populationcounty.csv')\n",
        "county_population.head(5)"
      ],
      "execution_count": null,
      "outputs": [
        {
          "output_type": "execute_result",
          "data": {
            "text/html": [
              "<div>\n",
              "<style scoped>\n",
              "    .dataframe tbody tr th:only-of-type {\n",
              "        vertical-align: middle;\n",
              "    }\n",
              "\n",
              "    .dataframe tbody tr th {\n",
              "        vertical-align: top;\n",
              "    }\n",
              "\n",
              "    .dataframe thead th {\n",
              "        text-align: right;\n",
              "    }\n",
              "</style>\n",
              "<table border=\"1\" class=\"dataframe\">\n",
              "  <thead>\n",
              "    <tr style=\"text-align: right;\">\n",
              "      <th></th>\n",
              "      <th>COUNTY_PCODE</th>\n",
              "      <th>COUNTY_NAME</th>\n",
              "      <th>2019_POPULATION</th>\n",
              "      <th>MALE</th>\n",
              "      <th>FEMALE</th>\n",
              "      <th>TOTAL_HOUSEHOLDS</th>\n",
              "      <th>Density \\n(Persons Per Sq. Km)</th>\n",
              "      <th>Unnamed: 7</th>\n",
              "      <th>Unnamed: 8</th>\n",
              "      <th>Unnamed: 9</th>\n",
              "      <th>Unnamed: 10</th>\n",
              "      <th>Unnamed: 11</th>\n",
              "      <th>Unnamed: 12</th>\n",
              "    </tr>\n",
              "  </thead>\n",
              "  <tbody>\n",
              "    <tr>\n",
              "      <th>0</th>\n",
              "      <td>KE01</td>\n",
              "      <td>Mombasa</td>\n",
              "      <td>1,208,333</td>\n",
              "      <td>610,257</td>\n",
              "      <td>598,046</td>\n",
              "      <td>378,422</td>\n",
              "      <td>5,495</td>\n",
              "      <td>NaN</td>\n",
              "      <td>NaN</td>\n",
              "      <td>NaN</td>\n",
              "      <td>NaN</td>\n",
              "      <td>NaN</td>\n",
              "      <td>NaN</td>\n",
              "    </tr>\n",
              "    <tr>\n",
              "      <th>1</th>\n",
              "      <td>KE02</td>\n",
              "      <td>Kwale</td>\n",
              "      <td>866,820</td>\n",
              "      <td>425,121</td>\n",
              "      <td>441,681</td>\n",
              "      <td>173,176</td>\n",
              "      <td>105</td>\n",
              "      <td>NaN</td>\n",
              "      <td>NaN</td>\n",
              "      <td>NaN</td>\n",
              "      <td>NaN</td>\n",
              "      <td>NaN</td>\n",
              "      <td>NaN</td>\n",
              "    </tr>\n",
              "    <tr>\n",
              "      <th>2</th>\n",
              "      <td>KE03</td>\n",
              "      <td>Kilifi</td>\n",
              "      <td>1,453,787</td>\n",
              "      <td>704,089</td>\n",
              "      <td>749,673</td>\n",
              "      <td>298,472</td>\n",
              "      <td>116</td>\n",
              "      <td>NaN</td>\n",
              "      <td>NaN</td>\n",
              "      <td>NaN</td>\n",
              "      <td>NaN</td>\n",
              "      <td>NaN</td>\n",
              "      <td>NaN</td>\n",
              "    </tr>\n",
              "    <tr>\n",
              "      <th>3</th>\n",
              "      <td>KE04</td>\n",
              "      <td>Tana River</td>\n",
              "      <td>315,943</td>\n",
              "      <td>158,550</td>\n",
              "      <td>157,391</td>\n",
              "      <td>68,242</td>\n",
              "      <td>8</td>\n",
              "      <td>NaN</td>\n",
              "      <td>NaN</td>\n",
              "      <td>NaN</td>\n",
              "      <td>NaN</td>\n",
              "      <td>NaN</td>\n",
              "      <td>NaN</td>\n",
              "    </tr>\n",
              "    <tr>\n",
              "      <th>4</th>\n",
              "      <td>KE05</td>\n",
              "      <td>Lamu</td>\n",
              "      <td>143,920</td>\n",
              "      <td>76,103</td>\n",
              "      <td>67,813</td>\n",
              "      <td>37,963</td>\n",
              "      <td>23</td>\n",
              "      <td>NaN</td>\n",
              "      <td>NaN</td>\n",
              "      <td>NaN</td>\n",
              "      <td>NaN</td>\n",
              "      <td>NaN</td>\n",
              "      <td>NaN</td>\n",
              "    </tr>\n",
              "  </tbody>\n",
              "</table>\n",
              "</div>"
            ],
            "text/plain": [
              "  COUNTY_PCODE COUNTY_NAME  ... Unnamed: 11 Unnamed: 12\n",
              "0         KE01     Mombasa  ...         NaN         NaN\n",
              "1         KE02       Kwale  ...         NaN         NaN\n",
              "2         KE03      Kilifi  ...         NaN         NaN\n",
              "3         KE04  Tana River  ...         NaN         NaN\n",
              "4         KE05        Lamu  ...         NaN         NaN\n",
              "\n",
              "[5 rows x 13 columns]"
            ]
          },
          "metadata": {
            "tags": []
          },
          "execution_count": 2
        }
      ]
    },
    {
      "cell_type": "markdown",
      "metadata": {
        "id": "VcCw5swe0TjS",
        "colab_type": "text"
      },
      "source": [
        "## 2.3 Identification of data type"
      ]
    },
    {
      "cell_type": "code",
      "metadata": {
        "id": "p1Y9OwIow6Hj",
        "colab_type": "code",
        "colab": {
          "base_uri": "https://localhost:8080/",
          "height": 358
        },
        "outputId": "cd21724b-cfdd-4e72-842c-f485bc930ccd"
      },
      "source": [
        "# Identify datatypes in the population dataset\n",
        "county_population.info()"
      ],
      "execution_count": null,
      "outputs": [
        {
          "output_type": "stream",
          "text": [
            "<class 'pandas.core.frame.DataFrame'>\n",
            "RangeIndex: 61 entries, 0 to 60\n",
            "Data columns (total 13 columns):\n",
            " #   Column                         Non-Null Count  Dtype  \n",
            "---  ------                         --------------  -----  \n",
            " 0   COUNTY_PCODE                   47 non-null     object \n",
            " 1   COUNTY_NAME                    47 non-null     object \n",
            " 2   2019_POPULATION                47 non-null     object \n",
            " 3   MALE                           47 non-null     object \n",
            " 4   FEMALE                         47 non-null     object \n",
            " 5   TOTAL_HOUSEHOLDS               47 non-null     object \n",
            " 6   Density \n",
            "(Persons Per Sq. Km)  47 non-null     object \n",
            " 7   Unnamed: 7                     0 non-null      float64\n",
            " 8   Unnamed: 8                     0 non-null      float64\n",
            " 9   Unnamed: 9                     0 non-null      float64\n",
            " 10  Unnamed: 10                    0 non-null      float64\n",
            " 11  Unnamed: 11                    0 non-null      float64\n",
            " 12  Unnamed: 12                    0 non-null      float64\n",
            "dtypes: float64(6), object(7)\n",
            "memory usage: 6.3+ KB\n"
          ],
          "name": "stdout"
        }
      ]
    },
    {
      "cell_type": "code",
      "metadata": {
        "id": "NFQVhfhD8OAK",
        "colab_type": "code",
        "colab": {
          "base_uri": "https://localhost:8080/",
          "height": 305
        },
        "outputId": "d1388b25-d2ee-45e2-b174-a362bfebd72d"
      },
      "source": [
        "# Load data on health facilities in Kenya\n",
        "health_facilities = pd.read_excel('KEN Health_Facilities.csv')\n",
        "health_facilities.head(5)"
      ],
      "execution_count": null,
      "outputs": [
        {
          "output_type": "execute_result",
          "data": {
            "text/html": [
              "<div>\n",
              "<style scoped>\n",
              "    .dataframe tbody tr th:only-of-type {\n",
              "        vertical-align: middle;\n",
              "    }\n",
              "\n",
              "    .dataframe tbody tr th {\n",
              "        vertical-align: top;\n",
              "    }\n",
              "\n",
              "    .dataframe thead th {\n",
              "        text-align: right;\n",
              "    }\n",
              "</style>\n",
              "<table border=\"1\" class=\"dataframe\">\n",
              "  <thead>\n",
              "    <tr style=\"text-align: right;\">\n",
              "      <th></th>\n",
              "      <th>Facility Number</th>\n",
              "      <th>Facility Name</th>\n",
              "      <th>HMIS</th>\n",
              "      <th>Province</th>\n",
              "      <th>District</th>\n",
              "      <th>Division</th>\n",
              "      <th>LOCATION</th>\n",
              "      <th>County</th>\n",
              "      <th>Constituency</th>\n",
              "      <th>Sub-Location</th>\n",
              "      <th>Spatial Reference Method</th>\n",
              "      <th>Facility Type</th>\n",
              "      <th>Agency</th>\n",
              "      <th>Geolocation</th>\n",
              "      <th>Facility Type NAME</th>\n",
              "    </tr>\n",
              "  </thead>\n",
              "  <tbody>\n",
              "    <tr>\n",
              "      <th>0</th>\n",
              "      <td>29</td>\n",
              "      <td>KIAMBU DISTRICT HOSPITAL</td>\n",
              "      <td>251</td>\n",
              "      <td>CENTRAL</td>\n",
              "      <td>KIAMBU</td>\n",
              "      <td>KIAMBAA</td>\n",
              "      <td>KIAMBAA S/AREA</td>\n",
              "      <td>KIAMBU</td>\n",
              "      <td>GATUNDU NORTH</td>\n",
              "      <td>TOWNSHIP(KIAMBAA)</td>\n",
              "      <td>GPS</td>\n",
              "      <td>1</td>\n",
              "      <td>MOH</td>\n",
              "      <td>(-1.16938000000, 36.82993000000)</td>\n",
              "      <td>Hospital Moh and Mission Districts, sub-districts</td>\n",
              "    </tr>\n",
              "    <tr>\n",
              "      <th>1</th>\n",
              "      <td>36</td>\n",
              "      <td>KIJABE HOSPITAL</td>\n",
              "      <td>252</td>\n",
              "      <td>CENTRAL</td>\n",
              "      <td>KIAMBU</td>\n",
              "      <td>LARI</td>\n",
              "      <td>KIJABE</td>\n",
              "      <td>KIAMBU</td>\n",
              "      <td>GATUNDU NORTH</td>\n",
              "      <td>KIJABE</td>\n",
              "      <td>GPS</td>\n",
              "      <td>1</td>\n",
              "      <td>MISS</td>\n",
              "      <td>(-0.94349000000, 36.59431000000)</td>\n",
              "      <td>Hospital Moh and Mission Districts, sub-districts</td>\n",
              "    </tr>\n",
              "    <tr>\n",
              "      <th>2</th>\n",
              "      <td>51</td>\n",
              "      <td>NAZARETH HOSPITAL</td>\n",
              "      <td>255</td>\n",
              "      <td>CENTRAL</td>\n",
              "      <td>KIAMBU</td>\n",
              "      <td>LIMURU</td>\n",
              "      <td>KARAMBAINI</td>\n",
              "      <td>KIAMBU</td>\n",
              "      <td>GATUNDU NORTH</td>\n",
              "      <td>KARAMBAINI</td>\n",
              "      <td>1:50000 MAPS</td>\n",
              "      <td>1</td>\n",
              "      <td>MISS</td>\n",
              "      <td>(-1.13378000000, 36.72570000000)</td>\n",
              "      <td>Hospital Moh and Mission Districts, sub-districts</td>\n",
              "    </tr>\n",
              "    <tr>\n",
              "      <th>3</th>\n",
              "      <td>62</td>\n",
              "      <td>P.C.E.A. KIKUYU HOSPITAL</td>\n",
              "      <td>2441</td>\n",
              "      <td>CENTRAL</td>\n",
              "      <td>KIAMBU</td>\n",
              "      <td>KIKUYU</td>\n",
              "      <td>KIKUYU</td>\n",
              "      <td>KIAMBU</td>\n",
              "      <td>GATUNDU NORTH</td>\n",
              "      <td>KIKUYU TOWNSHIP</td>\n",
              "      <td>DDP</td>\n",
              "      <td>1</td>\n",
              "      <td>MISS</td>\n",
              "      <td>(-1.26667000000, 36.66670000000)</td>\n",
              "      <td>Hospital Moh and Mission Districts, sub-districts</td>\n",
              "    </tr>\n",
              "    <tr>\n",
              "      <th>4</th>\n",
              "      <td>66</td>\n",
              "      <td>TIGONI SUB-DISTRICT HOSPITAL</td>\n",
              "      <td>257</td>\n",
              "      <td>CENTRAL</td>\n",
              "      <td>KIAMBU</td>\n",
              "      <td>LIMURU</td>\n",
              "      <td>TIGONI</td>\n",
              "      <td>KIAMBU</td>\n",
              "      <td>GATUNDU NORTH</td>\n",
              "      <td>ITHANJI(KIAMBU)</td>\n",
              "      <td>DDP</td>\n",
              "      <td>1</td>\n",
              "      <td>MOH</td>\n",
              "      <td>(-1.12859000000, 36.64930000000)</td>\n",
              "      <td>Hospital Moh and Mission Districts, sub-districts</td>\n",
              "    </tr>\n",
              "  </tbody>\n",
              "</table>\n",
              "</div>"
            ],
            "text/plain": [
              "   Facility Number  ...                                 Facility Type NAME\n",
              "0               29  ...  Hospital Moh and Mission Districts, sub-districts\n",
              "1               36  ...  Hospital Moh and Mission Districts, sub-districts\n",
              "2               51  ...  Hospital Moh and Mission Districts, sub-districts\n",
              "3               62  ...  Hospital Moh and Mission Districts, sub-districts\n",
              "4               66  ...  Hospital Moh and Mission Districts, sub-districts\n",
              "\n",
              "[5 rows x 15 columns]"
            ]
          },
          "metadata": {
            "tags": []
          },
          "execution_count": 4
        }
      ]
    },
    {
      "cell_type": "code",
      "metadata": {
        "id": "pPJ5T2-oxNkL",
        "colab_type": "code",
        "colab": {
          "base_uri": "https://localhost:8080/",
          "height": 375
        },
        "outputId": "52dbaa17-6c48-4712-f0c1-430a0abac73c"
      },
      "source": [
        "# Identify datatypes in the health facility dataset\n",
        "health_facilities.info()"
      ],
      "execution_count": null,
      "outputs": [
        {
          "output_type": "stream",
          "text": [
            "<class 'pandas.core.frame.DataFrame'>\n",
            "RangeIndex: 6762 entries, 0 to 6761\n",
            "Data columns (total 15 columns):\n",
            " #   Column                    Non-Null Count  Dtype \n",
            "---  ------                    --------------  ----- \n",
            " 0   Facility Number           6762 non-null   int64 \n",
            " 1   Facility Name             6760 non-null   object\n",
            " 2   HMIS                      6762 non-null   int64 \n",
            " 3   Province                  6760 non-null   object\n",
            " 4   District                  6760 non-null   object\n",
            " 5   Division                  5082 non-null   object\n",
            " 6   LOCATION                  5006 non-null   object\n",
            " 7   County                    4855 non-null   object\n",
            " 8   Constituency              4855 non-null   object\n",
            " 9   Sub-Location              4982 non-null   object\n",
            " 10  Spatial Reference Method  4867 non-null   object\n",
            " 11  Facility Type             6762 non-null   int64 \n",
            " 12  Agency                    6760 non-null   object\n",
            " 13  Geolocation               6762 non-null   object\n",
            " 14  Facility Type NAME        6760 non-null   object\n",
            "dtypes: int64(3), object(12)\n",
            "memory usage: 792.5+ KB\n"
          ],
          "name": "stdout"
        }
      ]
    },
    {
      "cell_type": "code",
      "metadata": {
        "id": "yR-kBXZq8_Ga",
        "colab_type": "code",
        "colab": {
          "base_uri": "https://localhost:8080/",
          "height": 288
        },
        "outputId": "b113e141-250d-48fc-ef90-d54a0d62b337"
      },
      "source": [
        "# Load data on covid 19 treatment centres\n",
        "ICU_beds = pd.read_csv('KHF Data.csv')\n",
        "ICU_beds.head(5)"
      ],
      "execution_count": null,
      "outputs": [
        {
          "output_type": "execute_result",
          "data": {
            "text/html": [
              "<div>\n",
              "<style scoped>\n",
              "    .dataframe tbody tr th:only-of-type {\n",
              "        vertical-align: middle;\n",
              "    }\n",
              "\n",
              "    .dataframe tbody tr th {\n",
              "        vertical-align: top;\n",
              "    }\n",
              "\n",
              "    .dataframe thead th {\n",
              "        text-align: right;\n",
              "    }\n",
              "</style>\n",
              "<table border=\"1\" class=\"dataframe\">\n",
              "  <thead>\n",
              "    <tr style=\"text-align: right;\">\n",
              "      <th></th>\n",
              "      <th>Cluster</th>\n",
              "      <th>County</th>\n",
              "      <th>Facility Name</th>\n",
              "      <th>Regular Isolation Beds Available</th>\n",
              "      <th>Regular Isolation Beds Recommended</th>\n",
              "      <th>Available ICU/Critical Care bed for Isolation</th>\n",
              "      <th>Recommended ICU/Critical beds for Isolation</th>\n",
              "      <th>Ventilators Available for Isoation</th>\n",
              "      <th>Ventilators Recommended for Isolation</th>\n",
              "      <th>ICU beds for General Patients(Public &amp; Private)</th>\n",
              "    </tr>\n",
              "  </thead>\n",
              "  <tbody>\n",
              "    <tr>\n",
              "      <th>0</th>\n",
              "      <td>North Rift</td>\n",
              "      <td>Elgeyo Marakwet</td>\n",
              "      <td>Iten Couty Referral Hospital</td>\n",
              "      <td>20.0</td>\n",
              "      <td>20.0</td>\n",
              "      <td>0.0</td>\n",
              "      <td>2.0</td>\n",
              "      <td>NaN</td>\n",
              "      <td>2.0</td>\n",
              "      <td>6.0</td>\n",
              "    </tr>\n",
              "    <tr>\n",
              "      <th>1</th>\n",
              "      <td>NaN</td>\n",
              "      <td>Nandi</td>\n",
              "      <td>Nandi Hills County Hospital</td>\n",
              "      <td>35.0</td>\n",
              "      <td>20.0</td>\n",
              "      <td>0.0</td>\n",
              "      <td>2.0</td>\n",
              "      <td>0.0</td>\n",
              "      <td>1.0</td>\n",
              "      <td>2.0</td>\n",
              "    </tr>\n",
              "    <tr>\n",
              "      <th>2</th>\n",
              "      <td>NaN</td>\n",
              "      <td>Tranzoia</td>\n",
              "      <td>Mt.Elgon Hospital</td>\n",
              "      <td>40.0</td>\n",
              "      <td>20.0</td>\n",
              "      <td>0.0</td>\n",
              "      <td>2.0</td>\n",
              "      <td>NaN</td>\n",
              "      <td>2.0</td>\n",
              "      <td>0.0</td>\n",
              "    </tr>\n",
              "    <tr>\n",
              "      <th>3</th>\n",
              "      <td>NaN</td>\n",
              "      <td>Turkana</td>\n",
              "      <td>Lodwar County Referral Hospital</td>\n",
              "      <td>12.0</td>\n",
              "      <td>20.0</td>\n",
              "      <td>0.0</td>\n",
              "      <td>2.0</td>\n",
              "      <td>NaN</td>\n",
              "      <td>2.0</td>\n",
              "      <td>3.0</td>\n",
              "    </tr>\n",
              "    <tr>\n",
              "      <th>4</th>\n",
              "      <td>NaN</td>\n",
              "      <td>Turkana</td>\n",
              "      <td>Lopiding Sub-County Hospital</td>\n",
              "      <td>0.0</td>\n",
              "      <td>20.0</td>\n",
              "      <td>0.0</td>\n",
              "      <td>2.0</td>\n",
              "      <td>NaN</td>\n",
              "      <td>2.0</td>\n",
              "      <td>NaN</td>\n",
              "    </tr>\n",
              "  </tbody>\n",
              "</table>\n",
              "</div>"
            ],
            "text/plain": [
              "      Cluster  ... ICU beds for General Patients(Public & Private)\n",
              "0  North Rift  ...                                             6.0\n",
              "1         NaN  ...                                             2.0\n",
              "2         NaN  ...                                             0.0\n",
              "3         NaN  ...                                             3.0\n",
              "4         NaN  ...                                             NaN\n",
              "\n",
              "[5 rows x 10 columns]"
            ]
          },
          "metadata": {
            "tags": []
          },
          "execution_count": 6
        }
      ]
    },
    {
      "cell_type": "code",
      "metadata": {
        "id": "Ax1IOFI9y3vs",
        "colab_type": "code",
        "colab": {
          "base_uri": "https://localhost:8080/",
          "height": 293
        },
        "outputId": "280c0b93-cc00-4abb-cf38-0bee2d03325b"
      },
      "source": [
        "# Identify datatypes in the ICU beds dataset\n",
        "ICU_beds.info()"
      ],
      "execution_count": null,
      "outputs": [
        {
          "output_type": "stream",
          "text": [
            "<class 'pandas.core.frame.DataFrame'>\n",
            "RangeIndex: 93 entries, 0 to 92\n",
            "Data columns (total 10 columns):\n",
            " #   Column                                           Non-Null Count  Dtype  \n",
            "---  ------                                           --------------  -----  \n",
            " 0   Cluster                                          10 non-null     object \n",
            " 1   County                                           91 non-null     object \n",
            " 2   Facility Name                                    80 non-null     object \n",
            " 3   Regular Isolation Beds Available                 90 non-null     float64\n",
            " 4   Regular Isolation Beds Recommended               90 non-null     float64\n",
            " 5   Available ICU/Critical Care bed for Isolation    90 non-null     float64\n",
            " 6   Recommended ICU/Critical beds for Isolation      90 non-null     float64\n",
            " 7   Ventilators Available for Isoation               12 non-null     float64\n",
            " 8   Ventilators Recommended for Isolation            74 non-null     float64\n",
            " 9   ICU beds for General Patients(Public & Private)  26 non-null     float64\n",
            "dtypes: float64(7), object(3)\n",
            "memory usage: 7.4+ KB\n"
          ],
          "name": "stdout"
        }
      ]
    },
    {
      "cell_type": "code",
      "metadata": {
        "id": "a-IueuQF9nG7",
        "colab_type": "code",
        "colab": {
          "base_uri": "https://localhost:8080/",
          "height": 191
        },
        "outputId": "47c6ba2e-ed37-4441-c092-c202b258fada"
      },
      "source": [
        "# Load data on covid cases per county\n",
        "county_cases = pd.read_csv('Cases_per_county.csv')\n",
        "county_cases.head(5)"
      ],
      "execution_count": null,
      "outputs": [
        {
          "output_type": "execute_result",
          "data": {
            "text/html": [
              "<div>\n",
              "<style scoped>\n",
              "    .dataframe tbody tr th:only-of-type {\n",
              "        vertical-align: middle;\n",
              "    }\n",
              "\n",
              "    .dataframe tbody tr th {\n",
              "        vertical-align: top;\n",
              "    }\n",
              "\n",
              "    .dataframe thead th {\n",
              "        text-align: right;\n",
              "    }\n",
              "</style>\n",
              "<table border=\"1\" class=\"dataframe\">\n",
              "  <thead>\n",
              "    <tr style=\"text-align: right;\">\n",
              "      <th></th>\n",
              "      <th>S/N o</th>\n",
              "      <th>County</th>\n",
              "      <th>Population (2019Census KNBS)</th>\n",
              "      <th>Cumulative Cases</th>\n",
              "      <th>Cases per 100,000 population</th>\n",
              "    </tr>\n",
              "  </thead>\n",
              "  <tbody>\n",
              "    <tr>\n",
              "      <th>0</th>\n",
              "      <td>1.0</td>\n",
              "      <td>Nairobi City</td>\n",
              "      <td>4,397,073</td>\n",
              "      <td>8618.0</td>\n",
              "      <td>196.0</td>\n",
              "    </tr>\n",
              "    <tr>\n",
              "      <th>1</th>\n",
              "      <td>2.0</td>\n",
              "      <td>Mombasa</td>\n",
              "      <td>1,208,333</td>\n",
              "      <td>1870.0</td>\n",
              "      <td>154.8</td>\n",
              "    </tr>\n",
              "    <tr>\n",
              "      <th>2</th>\n",
              "      <td>3.0</td>\n",
              "      <td>Busia</td>\n",
              "      <td>893,681</td>\n",
              "      <td>662.0</td>\n",
              "      <td>74.1</td>\n",
              "    </tr>\n",
              "    <tr>\n",
              "      <th>3</th>\n",
              "      <td>4.0</td>\n",
              "      <td>Kajiado</td>\n",
              "      <td>1,117,840</td>\n",
              "      <td>774.0</td>\n",
              "      <td>69.2</td>\n",
              "    </tr>\n",
              "    <tr>\n",
              "      <th>4</th>\n",
              "      <td>5.0</td>\n",
              "      <td>Kiambu</td>\n",
              "      <td>2,417,735</td>\n",
              "      <td>907.0</td>\n",
              "      <td>37.5</td>\n",
              "    </tr>\n",
              "  </tbody>\n",
              "</table>\n",
              "</div>"
            ],
            "text/plain": [
              "   S/N o        County  ... Cumulative Cases  Cases per 100,000 population\n",
              "0    1.0  Nairobi City  ...           8618.0                         196.0\n",
              "1    2.0       Mombasa  ...           1870.0                         154.8\n",
              "2    3.0         Busia  ...            662.0                          74.1\n",
              "3    4.0       Kajiado  ...            774.0                          69.2\n",
              "4    5.0        Kiambu  ...            907.0                          37.5\n",
              "\n",
              "[5 rows x 5 columns]"
            ]
          },
          "metadata": {
            "tags": []
          },
          "execution_count": 8
        }
      ]
    },
    {
      "cell_type": "code",
      "metadata": {
        "id": "i-0NYWgZzAOt",
        "colab_type": "code",
        "colab": {
          "base_uri": "https://localhost:8080/",
          "height": 212
        },
        "outputId": "a45a8f3c-5656-42d0-f158-66ab17f6bf41"
      },
      "source": [
        "# Identify datatypes in the county cases dataset\n",
        "county_cases.info()"
      ],
      "execution_count": null,
      "outputs": [
        {
          "output_type": "stream",
          "text": [
            "<class 'pandas.core.frame.DataFrame'>\n",
            "RangeIndex: 45 entries, 0 to 44\n",
            "Data columns (total 5 columns):\n",
            " #   Column                        Non-Null Count  Dtype  \n",
            "---  ------                        --------------  -----  \n",
            " 0   S/N o                         44 non-null     float64\n",
            " 1   County                        44 non-null     object \n",
            " 2   Population (2019Census KNBS)  44 non-null     object \n",
            " 3   Cumulative Cases              44 non-null     float64\n",
            " 4   Cases per 100,000 population  44 non-null     float64\n",
            "dtypes: float64(3), object(2)\n",
            "memory usage: 1.9+ KB\n"
          ],
          "name": "stdout"
        }
      ]
    },
    {
      "cell_type": "markdown",
      "metadata": {
        "id": "FPJXYZsNvVbb",
        "colab_type": "text"
      },
      "source": [
        "# DATA PREPARATION"
      ]
    },
    {
      "cell_type": "markdown",
      "metadata": {
        "id": "TfdIpvZbBgYn",
        "colab_type": "text"
      },
      "source": [
        "## 3.1  Renaming Columns"
      ]
    },
    {
      "cell_type": "code",
      "metadata": {
        "id": "vDFsvCDKCfG5",
        "colab_type": "code",
        "colab": {
          "base_uri": "https://localhost:8080/",
          "height": 256
        },
        "outputId": "16425d4a-f80b-4f47-c515-113be6ba4d6c"
      },
      "source": [
        "#renaming columns\n",
        "county_population.rename(columns = {'COUNTY_PCODE': 'County_PCODE', 'COUNTY_NAME': 'County', '2019_POPULATION': '2019_Population', 'MALE': 'Male', 'FEMALE': 'Female', 'TOTAL_HOUSEHOLDS': 'Total_Households', 'Density \\n(Persons Per Sq. Km)' : 'Density'}, inplace = True)\n",
        "#view \n",
        "print(county_population.columns)\n",
        "county_population.head(5)"
      ],
      "execution_count": null,
      "outputs": [
        {
          "output_type": "stream",
          "text": [
            "Index(['County_PCODE', 'County', '2019_Population', 'Male', 'Female',\n",
            "       'Total_Households', 'Density', 'Unnamed: 7', 'Unnamed: 8', 'Unnamed: 9',\n",
            "       'Unnamed: 10', 'Unnamed: 11', 'Unnamed: 12'],\n",
            "      dtype='object')\n"
          ],
          "name": "stdout"
        },
        {
          "output_type": "execute_result",
          "data": {
            "text/html": [
              "<div>\n",
              "<style scoped>\n",
              "    .dataframe tbody tr th:only-of-type {\n",
              "        vertical-align: middle;\n",
              "    }\n",
              "\n",
              "    .dataframe tbody tr th {\n",
              "        vertical-align: top;\n",
              "    }\n",
              "\n",
              "    .dataframe thead th {\n",
              "        text-align: right;\n",
              "    }\n",
              "</style>\n",
              "<table border=\"1\" class=\"dataframe\">\n",
              "  <thead>\n",
              "    <tr style=\"text-align: right;\">\n",
              "      <th></th>\n",
              "      <th>County_PCODE</th>\n",
              "      <th>County</th>\n",
              "      <th>2019_Population</th>\n",
              "      <th>Male</th>\n",
              "      <th>Female</th>\n",
              "      <th>Total_Households</th>\n",
              "      <th>Density</th>\n",
              "      <th>Unnamed: 7</th>\n",
              "      <th>Unnamed: 8</th>\n",
              "      <th>Unnamed: 9</th>\n",
              "      <th>Unnamed: 10</th>\n",
              "      <th>Unnamed: 11</th>\n",
              "      <th>Unnamed: 12</th>\n",
              "    </tr>\n",
              "  </thead>\n",
              "  <tbody>\n",
              "    <tr>\n",
              "      <th>0</th>\n",
              "      <td>KE01</td>\n",
              "      <td>Mombasa</td>\n",
              "      <td>1,208,333</td>\n",
              "      <td>610,257</td>\n",
              "      <td>598,046</td>\n",
              "      <td>378,422</td>\n",
              "      <td>5,495</td>\n",
              "      <td>NaN</td>\n",
              "      <td>NaN</td>\n",
              "      <td>NaN</td>\n",
              "      <td>NaN</td>\n",
              "      <td>NaN</td>\n",
              "      <td>NaN</td>\n",
              "    </tr>\n",
              "    <tr>\n",
              "      <th>1</th>\n",
              "      <td>KE02</td>\n",
              "      <td>Kwale</td>\n",
              "      <td>866,820</td>\n",
              "      <td>425,121</td>\n",
              "      <td>441,681</td>\n",
              "      <td>173,176</td>\n",
              "      <td>105</td>\n",
              "      <td>NaN</td>\n",
              "      <td>NaN</td>\n",
              "      <td>NaN</td>\n",
              "      <td>NaN</td>\n",
              "      <td>NaN</td>\n",
              "      <td>NaN</td>\n",
              "    </tr>\n",
              "    <tr>\n",
              "      <th>2</th>\n",
              "      <td>KE03</td>\n",
              "      <td>Kilifi</td>\n",
              "      <td>1,453,787</td>\n",
              "      <td>704,089</td>\n",
              "      <td>749,673</td>\n",
              "      <td>298,472</td>\n",
              "      <td>116</td>\n",
              "      <td>NaN</td>\n",
              "      <td>NaN</td>\n",
              "      <td>NaN</td>\n",
              "      <td>NaN</td>\n",
              "      <td>NaN</td>\n",
              "      <td>NaN</td>\n",
              "    </tr>\n",
              "    <tr>\n",
              "      <th>3</th>\n",
              "      <td>KE04</td>\n",
              "      <td>Tana River</td>\n",
              "      <td>315,943</td>\n",
              "      <td>158,550</td>\n",
              "      <td>157,391</td>\n",
              "      <td>68,242</td>\n",
              "      <td>8</td>\n",
              "      <td>NaN</td>\n",
              "      <td>NaN</td>\n",
              "      <td>NaN</td>\n",
              "      <td>NaN</td>\n",
              "      <td>NaN</td>\n",
              "      <td>NaN</td>\n",
              "    </tr>\n",
              "    <tr>\n",
              "      <th>4</th>\n",
              "      <td>KE05</td>\n",
              "      <td>Lamu</td>\n",
              "      <td>143,920</td>\n",
              "      <td>76,103</td>\n",
              "      <td>67,813</td>\n",
              "      <td>37,963</td>\n",
              "      <td>23</td>\n",
              "      <td>NaN</td>\n",
              "      <td>NaN</td>\n",
              "      <td>NaN</td>\n",
              "      <td>NaN</td>\n",
              "      <td>NaN</td>\n",
              "      <td>NaN</td>\n",
              "    </tr>\n",
              "  </tbody>\n",
              "</table>\n",
              "</div>"
            ],
            "text/plain": [
              "  County_PCODE      County  ... Unnamed: 11 Unnamed: 12\n",
              "0         KE01     Mombasa  ...         NaN         NaN\n",
              "1         KE02       Kwale  ...         NaN         NaN\n",
              "2         KE03      Kilifi  ...         NaN         NaN\n",
              "3         KE04  Tana River  ...         NaN         NaN\n",
              "4         KE05        Lamu  ...         NaN         NaN\n",
              "\n",
              "[5 rows x 13 columns]"
            ]
          },
          "metadata": {
            "tags": []
          },
          "execution_count": 10
        }
      ]
    },
    {
      "cell_type": "markdown",
      "metadata": {
        "id": "45x9dk8rNyL1",
        "colab_type": "text"
      },
      "source": [
        "## 3.4 Dropping Columns and Rows"
      ]
    },
    {
      "cell_type": "code",
      "metadata": {
        "id": "BHtHEDzbN30m",
        "colab_type": "code",
        "colab": {
          "base_uri": "https://localhost:8080/",
          "height": 191
        },
        "outputId": "873b40a3-d62d-4240-c954-eb034a18e389"
      },
      "source": [
        "# Dropping columns 'County_PCODE', 'Total_households' , Unnanmed columns\n",
        "to_drop = county_population.columns.to_list()[7:]\n",
        "to_drop.append('County_PCODE')\n",
        "to_drop.append('Total_Households')\n",
        "county_population.drop(to_drop, axis = 1, inplace= True)\n",
        "county_population.head(5)"
      ],
      "execution_count": null,
      "outputs": [
        {
          "output_type": "execute_result",
          "data": {
            "text/html": [
              "<div>\n",
              "<style scoped>\n",
              "    .dataframe tbody tr th:only-of-type {\n",
              "        vertical-align: middle;\n",
              "    }\n",
              "\n",
              "    .dataframe tbody tr th {\n",
              "        vertical-align: top;\n",
              "    }\n",
              "\n",
              "    .dataframe thead th {\n",
              "        text-align: right;\n",
              "    }\n",
              "</style>\n",
              "<table border=\"1\" class=\"dataframe\">\n",
              "  <thead>\n",
              "    <tr style=\"text-align: right;\">\n",
              "      <th></th>\n",
              "      <th>County</th>\n",
              "      <th>2019_Population</th>\n",
              "      <th>Male</th>\n",
              "      <th>Female</th>\n",
              "      <th>Density</th>\n",
              "    </tr>\n",
              "  </thead>\n",
              "  <tbody>\n",
              "    <tr>\n",
              "      <th>0</th>\n",
              "      <td>Mombasa</td>\n",
              "      <td>1,208,333</td>\n",
              "      <td>610,257</td>\n",
              "      <td>598,046</td>\n",
              "      <td>5,495</td>\n",
              "    </tr>\n",
              "    <tr>\n",
              "      <th>1</th>\n",
              "      <td>Kwale</td>\n",
              "      <td>866,820</td>\n",
              "      <td>425,121</td>\n",
              "      <td>441,681</td>\n",
              "      <td>105</td>\n",
              "    </tr>\n",
              "    <tr>\n",
              "      <th>2</th>\n",
              "      <td>Kilifi</td>\n",
              "      <td>1,453,787</td>\n",
              "      <td>704,089</td>\n",
              "      <td>749,673</td>\n",
              "      <td>116</td>\n",
              "    </tr>\n",
              "    <tr>\n",
              "      <th>3</th>\n",
              "      <td>Tana River</td>\n",
              "      <td>315,943</td>\n",
              "      <td>158,550</td>\n",
              "      <td>157,391</td>\n",
              "      <td>8</td>\n",
              "    </tr>\n",
              "    <tr>\n",
              "      <th>4</th>\n",
              "      <td>Lamu</td>\n",
              "      <td>143,920</td>\n",
              "      <td>76,103</td>\n",
              "      <td>67,813</td>\n",
              "      <td>23</td>\n",
              "    </tr>\n",
              "  </tbody>\n",
              "</table>\n",
              "</div>"
            ],
            "text/plain": [
              "       County 2019_Population       Male     Female  Density\n",
              "0     Mombasa      1,208,333    610,257    598,046    5,495 \n",
              "1       Kwale        866,820    425,121    441,681      105 \n",
              "2      Kilifi      1,453,787    704,089    749,673      116 \n",
              "3  Tana River        315,943    158,550    157,391        8 \n",
              "4        Lamu        143,920     76,103     67,813       23 "
            ]
          },
          "metadata": {
            "tags": []
          },
          "execution_count": 11
        }
      ]
    },
    {
      "cell_type": "code",
      "metadata": {
        "id": "bS6mb6WOvBoA",
        "colab_type": "code",
        "colab": {
          "base_uri": "https://localhost:8080/",
          "height": 33
        },
        "outputId": "6133a821-350b-4ecf-dbc0-7c98abeb959e"
      },
      "source": [
        "# Check for duplicates\n",
        "county_population.duplicated().sum()"
      ],
      "execution_count": null,
      "outputs": [
        {
          "output_type": "execute_result",
          "data": {
            "text/plain": [
              "13"
            ]
          },
          "metadata": {
            "tags": []
          },
          "execution_count": 12
        }
      ]
    },
    {
      "cell_type": "code",
      "metadata": {
        "id": "SkOkVAExvIn3",
        "colab_type": "code",
        "colab": {}
      },
      "source": [
        "# Drop duplicates\n",
        "county_population.dropna(inplace=True)"
      ],
      "execution_count": null,
      "outputs": []
    },
    {
      "cell_type": "code",
      "metadata": {
        "id": "FYDxNdaEVC10",
        "colab_type": "code",
        "colab": {
          "base_uri": "https://localhost:8080/",
          "height": 191
        },
        "outputId": "687a2e2e-3499-4f90-848b-3b2ba408eead"
      },
      "source": [
        "# Dropping columns \n",
        "health_facilities.drop(['Facility Number', 'HMIS',\t'Province',\t'District',\t'Division',\t'LOCATION', 'Constituency',\t'Sub-Location',\t'Spatial Reference Method',\t'Facility Type',\t'Agency',\t'Geolocation',\t'Facility Type NAME'], axis = 1, inplace = True)\n",
        "health_facilities.head(5)"
      ],
      "execution_count": null,
      "outputs": [
        {
          "output_type": "execute_result",
          "data": {
            "text/html": [
              "<div>\n",
              "<style scoped>\n",
              "    .dataframe tbody tr th:only-of-type {\n",
              "        vertical-align: middle;\n",
              "    }\n",
              "\n",
              "    .dataframe tbody tr th {\n",
              "        vertical-align: top;\n",
              "    }\n",
              "\n",
              "    .dataframe thead th {\n",
              "        text-align: right;\n",
              "    }\n",
              "</style>\n",
              "<table border=\"1\" class=\"dataframe\">\n",
              "  <thead>\n",
              "    <tr style=\"text-align: right;\">\n",
              "      <th></th>\n",
              "      <th>Facility Name</th>\n",
              "      <th>County</th>\n",
              "    </tr>\n",
              "  </thead>\n",
              "  <tbody>\n",
              "    <tr>\n",
              "      <th>0</th>\n",
              "      <td>KIAMBU DISTRICT HOSPITAL</td>\n",
              "      <td>KIAMBU</td>\n",
              "    </tr>\n",
              "    <tr>\n",
              "      <th>1</th>\n",
              "      <td>KIJABE HOSPITAL</td>\n",
              "      <td>KIAMBU</td>\n",
              "    </tr>\n",
              "    <tr>\n",
              "      <th>2</th>\n",
              "      <td>NAZARETH HOSPITAL</td>\n",
              "      <td>KIAMBU</td>\n",
              "    </tr>\n",
              "    <tr>\n",
              "      <th>3</th>\n",
              "      <td>P.C.E.A. KIKUYU HOSPITAL</td>\n",
              "      <td>KIAMBU</td>\n",
              "    </tr>\n",
              "    <tr>\n",
              "      <th>4</th>\n",
              "      <td>TIGONI SUB-DISTRICT HOSPITAL</td>\n",
              "      <td>KIAMBU</td>\n",
              "    </tr>\n",
              "  </tbody>\n",
              "</table>\n",
              "</div>"
            ],
            "text/plain": [
              "                  Facility Name  County\n",
              "0      KIAMBU DISTRICT HOSPITAL  KIAMBU\n",
              "1               KIJABE HOSPITAL  KIAMBU\n",
              "2             NAZARETH HOSPITAL  KIAMBU\n",
              "3      P.C.E.A. KIKUYU HOSPITAL  KIAMBU\n",
              "4  TIGONI SUB-DISTRICT HOSPITAL  KIAMBU"
            ]
          },
          "metadata": {
            "tags": []
          },
          "execution_count": 14
        }
      ]
    },
    {
      "cell_type": "code",
      "metadata": {
        "id": "MFa2RgLZwo18",
        "colab_type": "code",
        "colab": {
          "base_uri": "https://localhost:8080/",
          "height": 66
        },
        "outputId": "dec32396-6a0d-486a-d234-6bd456abff00"
      },
      "source": [
        "# Check for null values\n",
        "health_facilities.isnull().sum()"
      ],
      "execution_count": null,
      "outputs": [
        {
          "output_type": "execute_result",
          "data": {
            "text/plain": [
              "Facility Name       2\n",
              "County           1907\n",
              "dtype: int64"
            ]
          },
          "metadata": {
            "tags": []
          },
          "execution_count": 15
        }
      ]
    },
    {
      "cell_type": "code",
      "metadata": {
        "id": "qKLPfaHYw12s",
        "colab_type": "code",
        "colab": {}
      },
      "source": [
        "# Drop null values\n",
        "health_facilities.dropna(inplace=True)"
      ],
      "execution_count": null,
      "outputs": []
    },
    {
      "cell_type": "code",
      "metadata": {
        "id": "OgMMAxleshsb",
        "colab_type": "code",
        "colab": {
          "base_uri": "https://localhost:8080/",
          "height": 33
        },
        "outputId": "7ed0d959-a1b4-4ccc-8cf4-1f7a16cf62ca"
      },
      "source": [
        "# Check for duplicates\n",
        "health_facilities.duplicated().sum()"
      ],
      "execution_count": null,
      "outputs": [
        {
          "output_type": "execute_result",
          "data": {
            "text/plain": [
              "27"
            ]
          },
          "metadata": {
            "tags": []
          },
          "execution_count": 17
        }
      ]
    },
    {
      "cell_type": "code",
      "metadata": {
        "id": "i-Mz7SMssr71",
        "colab_type": "code",
        "colab": {}
      },
      "source": [
        "# Drop duplicates\n",
        "health_facilities.drop_duplicates(inplace=True)"
      ],
      "execution_count": null,
      "outputs": []
    },
    {
      "cell_type": "code",
      "metadata": {
        "id": "xacTBzh8XMXc",
        "colab_type": "code",
        "colab": {
          "base_uri": "https://localhost:8080/",
          "height": 288
        },
        "outputId": "6146b8ae-7e11-4d88-a8cb-b535c7f048d3"
      },
      "source": [
        "# Drop Column: 'Cluster'\n",
        "ICU_beds.drop('Cluster', axis = 1, inplace = True)\n",
        "ICU_beds.head()"
      ],
      "execution_count": null,
      "outputs": [
        {
          "output_type": "execute_result",
          "data": {
            "text/html": [
              "<div>\n",
              "<style scoped>\n",
              "    .dataframe tbody tr th:only-of-type {\n",
              "        vertical-align: middle;\n",
              "    }\n",
              "\n",
              "    .dataframe tbody tr th {\n",
              "        vertical-align: top;\n",
              "    }\n",
              "\n",
              "    .dataframe thead th {\n",
              "        text-align: right;\n",
              "    }\n",
              "</style>\n",
              "<table border=\"1\" class=\"dataframe\">\n",
              "  <thead>\n",
              "    <tr style=\"text-align: right;\">\n",
              "      <th></th>\n",
              "      <th>County</th>\n",
              "      <th>Facility Name</th>\n",
              "      <th>Regular Isolation Beds Available</th>\n",
              "      <th>Regular Isolation Beds Recommended</th>\n",
              "      <th>Available ICU/Critical Care bed for Isolation</th>\n",
              "      <th>Recommended ICU/Critical beds for Isolation</th>\n",
              "      <th>Ventilators Available for Isoation</th>\n",
              "      <th>Ventilators Recommended for Isolation</th>\n",
              "      <th>ICU beds for General Patients(Public &amp; Private)</th>\n",
              "    </tr>\n",
              "  </thead>\n",
              "  <tbody>\n",
              "    <tr>\n",
              "      <th>0</th>\n",
              "      <td>Elgeyo Marakwet</td>\n",
              "      <td>Iten Couty Referral Hospital</td>\n",
              "      <td>20.0</td>\n",
              "      <td>20.0</td>\n",
              "      <td>0.0</td>\n",
              "      <td>2.0</td>\n",
              "      <td>NaN</td>\n",
              "      <td>2.0</td>\n",
              "      <td>6.0</td>\n",
              "    </tr>\n",
              "    <tr>\n",
              "      <th>1</th>\n",
              "      <td>Nandi</td>\n",
              "      <td>Nandi Hills County Hospital</td>\n",
              "      <td>35.0</td>\n",
              "      <td>20.0</td>\n",
              "      <td>0.0</td>\n",
              "      <td>2.0</td>\n",
              "      <td>0.0</td>\n",
              "      <td>1.0</td>\n",
              "      <td>2.0</td>\n",
              "    </tr>\n",
              "    <tr>\n",
              "      <th>2</th>\n",
              "      <td>Tranzoia</td>\n",
              "      <td>Mt.Elgon Hospital</td>\n",
              "      <td>40.0</td>\n",
              "      <td>20.0</td>\n",
              "      <td>0.0</td>\n",
              "      <td>2.0</td>\n",
              "      <td>NaN</td>\n",
              "      <td>2.0</td>\n",
              "      <td>0.0</td>\n",
              "    </tr>\n",
              "    <tr>\n",
              "      <th>3</th>\n",
              "      <td>Turkana</td>\n",
              "      <td>Lodwar County Referral Hospital</td>\n",
              "      <td>12.0</td>\n",
              "      <td>20.0</td>\n",
              "      <td>0.0</td>\n",
              "      <td>2.0</td>\n",
              "      <td>NaN</td>\n",
              "      <td>2.0</td>\n",
              "      <td>3.0</td>\n",
              "    </tr>\n",
              "    <tr>\n",
              "      <th>4</th>\n",
              "      <td>Turkana</td>\n",
              "      <td>Lopiding Sub-County Hospital</td>\n",
              "      <td>0.0</td>\n",
              "      <td>20.0</td>\n",
              "      <td>0.0</td>\n",
              "      <td>2.0</td>\n",
              "      <td>NaN</td>\n",
              "      <td>2.0</td>\n",
              "      <td>NaN</td>\n",
              "    </tr>\n",
              "  </tbody>\n",
              "</table>\n",
              "</div>"
            ],
            "text/plain": [
              "            County  ... ICU beds for General Patients(Public & Private)\n",
              "0  Elgeyo Marakwet  ...                                             6.0\n",
              "1            Nandi  ...                                             2.0\n",
              "2         Tranzoia  ...                                             0.0\n",
              "3          Turkana  ...                                             3.0\n",
              "4          Turkana  ...                                             NaN\n",
              "\n",
              "[5 rows x 9 columns]"
            ]
          },
          "metadata": {
            "tags": []
          },
          "execution_count": 19
        }
      ]
    },
    {
      "cell_type": "code",
      "metadata": {
        "id": "b9XUkb_1Khrw",
        "colab_type": "code",
        "colab": {}
      },
      "source": [
        "#Drop rows with the following in the county column\n",
        "ICU_beds = ICU_beds[~ICU_beds.County.isin(['Regional Subtotal','Regional Sub Total','Regional Sub-total'])]\n"
      ],
      "execution_count": null,
      "outputs": []
    },
    {
      "cell_type": "code",
      "metadata": {
        "id": "Oz7Ybj6dm_df",
        "colab_type": "code",
        "colab": {
          "base_uri": "https://localhost:8080/",
          "height": 33
        },
        "outputId": "0f8c7fde-f580-4621-c879-bbad90b21ea0"
      },
      "source": [
        "# Check for duplicates\n",
        "ICU_beds.duplicated().any()"
      ],
      "execution_count": null,
      "outputs": [
        {
          "output_type": "execute_result",
          "data": {
            "text/plain": [
              "False"
            ]
          },
          "metadata": {
            "tags": []
          },
          "execution_count": 21
        }
      ]
    },
    {
      "cell_type": "code",
      "metadata": {
        "id": "Q5mai5zptYsQ",
        "colab_type": "code",
        "colab": {}
      },
      "source": [
        "# Drop null values in county column\n",
        "ICU_beds.dropna(subset=['County'], inplace=True)"
      ],
      "execution_count": null,
      "outputs": []
    },
    {
      "cell_type": "code",
      "metadata": {
        "id": "d6HRZBx1uNWO",
        "colab_type": "code",
        "colab": {
          "base_uri": "https://localhost:8080/",
          "height": 180
        },
        "outputId": "7771df52-b060-472f-8121-f03384f9e747"
      },
      "source": [
        "# Ensure no null values in county column\n",
        "ICU_beds.isnull().sum()"
      ],
      "execution_count": null,
      "outputs": [
        {
          "output_type": "execute_result",
          "data": {
            "text/plain": [
              "County                                              0\n",
              "Facility Name                                       1\n",
              "Regular Isolation Beds Available                    1\n",
              "Regular Isolation Beds Recommended                  1\n",
              "Available ICU/Critical Care bed for Isolation       1\n",
              "Recommended ICU/Critical beds for Isolation         1\n",
              "Ventilators Available for Isoation                 75\n",
              "Ventilators Recommended for Isolation              15\n",
              "ICU beds for General Patients(Public & Private)    57\n",
              "dtype: int64"
            ]
          },
          "metadata": {
            "tags": []
          },
          "execution_count": 23
        }
      ]
    },
    {
      "cell_type": "code",
      "metadata": {
        "id": "E8ZkEtabYu7D",
        "colab_type": "code",
        "colab": {
          "base_uri": "https://localhost:8080/",
          "height": 191
        },
        "outputId": "686e80ab-9486-4d5d-cdea-2351549f6a6a"
      },
      "source": [
        "# Drop column: 'S/N o'\n",
        "county_cases.drop('S/N o', axis = 1, inplace = True)\n",
        "county_cases.head(5)"
      ],
      "execution_count": null,
      "outputs": [
        {
          "output_type": "execute_result",
          "data": {
            "text/html": [
              "<div>\n",
              "<style scoped>\n",
              "    .dataframe tbody tr th:only-of-type {\n",
              "        vertical-align: middle;\n",
              "    }\n",
              "\n",
              "    .dataframe tbody tr th {\n",
              "        vertical-align: top;\n",
              "    }\n",
              "\n",
              "    .dataframe thead th {\n",
              "        text-align: right;\n",
              "    }\n",
              "</style>\n",
              "<table border=\"1\" class=\"dataframe\">\n",
              "  <thead>\n",
              "    <tr style=\"text-align: right;\">\n",
              "      <th></th>\n",
              "      <th>County</th>\n",
              "      <th>Population (2019Census KNBS)</th>\n",
              "      <th>Cumulative Cases</th>\n",
              "      <th>Cases per 100,000 population</th>\n",
              "    </tr>\n",
              "  </thead>\n",
              "  <tbody>\n",
              "    <tr>\n",
              "      <th>0</th>\n",
              "      <td>Nairobi City</td>\n",
              "      <td>4,397,073</td>\n",
              "      <td>8618.0</td>\n",
              "      <td>196.0</td>\n",
              "    </tr>\n",
              "    <tr>\n",
              "      <th>1</th>\n",
              "      <td>Mombasa</td>\n",
              "      <td>1,208,333</td>\n",
              "      <td>1870.0</td>\n",
              "      <td>154.8</td>\n",
              "    </tr>\n",
              "    <tr>\n",
              "      <th>2</th>\n",
              "      <td>Busia</td>\n",
              "      <td>893,681</td>\n",
              "      <td>662.0</td>\n",
              "      <td>74.1</td>\n",
              "    </tr>\n",
              "    <tr>\n",
              "      <th>3</th>\n",
              "      <td>Kajiado</td>\n",
              "      <td>1,117,840</td>\n",
              "      <td>774.0</td>\n",
              "      <td>69.2</td>\n",
              "    </tr>\n",
              "    <tr>\n",
              "      <th>4</th>\n",
              "      <td>Kiambu</td>\n",
              "      <td>2,417,735</td>\n",
              "      <td>907.0</td>\n",
              "      <td>37.5</td>\n",
              "    </tr>\n",
              "  </tbody>\n",
              "</table>\n",
              "</div>"
            ],
            "text/plain": [
              "         County  ... Cases per 100,000 population\n",
              "0  Nairobi City  ...                        196.0\n",
              "1       Mombasa  ...                        154.8\n",
              "2         Busia  ...                         74.1\n",
              "3       Kajiado  ...                         69.2\n",
              "4        Kiambu  ...                         37.5\n",
              "\n",
              "[5 rows x 4 columns]"
            ]
          },
          "metadata": {
            "tags": []
          },
          "execution_count": 24
        }
      ]
    },
    {
      "cell_type": "code",
      "metadata": {
        "id": "cNLbnI6TuZl0",
        "colab_type": "code",
        "colab": {
          "base_uri": "https://localhost:8080/",
          "height": 33
        },
        "outputId": "f284a414-4a7b-4e08-ce19-6cc8a4521301"
      },
      "source": [
        "\n",
        "county_cases.duplicated().sum()"
      ],
      "execution_count": null,
      "outputs": [
        {
          "output_type": "execute_result",
          "data": {
            "text/plain": [
              "0"
            ]
          },
          "metadata": {
            "tags": []
          },
          "execution_count": 25
        }
      ]
    },
    {
      "cell_type": "code",
      "metadata": {
        "id": "AaWDy9B6ug68",
        "colab_type": "code",
        "colab": {
          "base_uri": "https://localhost:8080/",
          "height": 98
        },
        "outputId": "3e435967-5037-4c13-b61a-b406ea6cd87b"
      },
      "source": [
        "county_cases.isnull().sum()"
      ],
      "execution_count": null,
      "outputs": [
        {
          "output_type": "execute_result",
          "data": {
            "text/plain": [
              "County                          1\n",
              "Population (2019Census KNBS)    1\n",
              "Cumulative Cases                1\n",
              "Cases per 100,000 population    1\n",
              "dtype: int64"
            ]
          },
          "metadata": {
            "tags": []
          },
          "execution_count": 26
        }
      ]
    },
    {
      "cell_type": "code",
      "metadata": {
        "id": "8WCCPnnWusgm",
        "colab_type": "code",
        "colab": {}
      },
      "source": [
        "county_cases.dropna(subset=['County'], inplace=True)"
      ],
      "execution_count": null,
      "outputs": []
    },
    {
      "cell_type": "code",
      "metadata": {
        "id": "Lt973xGoveN3",
        "colab_type": "code",
        "colab": {
          "base_uri": "https://localhost:8080/",
          "height": 33
        },
        "outputId": "9218ed04-0628-4253-f399-392ddfa2eb1f"
      },
      "source": [
        "# 44 counties with reported covid cases as of 23rd July\n",
        "county_cases.shape"
      ],
      "execution_count": null,
      "outputs": [
        {
          "output_type": "execute_result",
          "data": {
            "text/plain": [
              "(44, 4)"
            ]
          },
          "metadata": {
            "tags": []
          },
          "execution_count": 28
        }
      ]
    },
    {
      "cell_type": "markdown",
      "metadata": {
        "id": "uCgSJLN-Z8hy",
        "colab_type": "text"
      },
      "source": [
        "## 3.5 Merge the four Datasets to one main Dataframe"
      ]
    },
    {
      "cell_type": "code",
      "metadata": {
        "id": "VY-7srRaUl1i",
        "colab_type": "code",
        "colab": {
          "base_uri": "https://localhost:8080/",
          "height": 33
        },
        "outputId": "737c312c-3d3a-4fdb-d331-f9aa0ff93335"
      },
      "source": [
        "# Check for uniformity in county naming for population and cases datasets\n",
        "matched_counties = set(county_population.County.to_list()).intersection(set(county_cases.County.to_list()))\n",
        "len(matched_counties)"
      ],
      "execution_count": null,
      "outputs": [
        {
          "output_type": "execute_result",
          "data": {
            "text/plain": [
              "41"
            ]
          },
          "metadata": {
            "tags": []
          },
          "execution_count": 29
        }
      ]
    },
    {
      "cell_type": "code",
      "metadata": {
        "id": "mJzaUPEZ1KD9",
        "colab_type": "code",
        "colab": {
          "base_uri": "https://localhost:8080/",
          "height": 115
        },
        "outputId": "20b9e6f6-0eeb-4d7d-ef57-a1055a8cdb3c"
      },
      "source": [
        "# Counties in population but not in cases dataframe\n",
        "set(county_population.County.to_list()).difference(set(county_cases.County.to_list()))"
      ],
      "execution_count": null,
      "outputs": [
        {
          "output_type": "execute_result",
          "data": {
            "text/plain": [
              "{'Baringo',\n",
              " 'Elgeyo-Marakwet',\n",
              " 'Nairobi',\n",
              " 'Samburu',\n",
              " 'Taita Taveta',\n",
              " 'West Pokot'}"
            ]
          },
          "metadata": {
            "tags": []
          },
          "execution_count": 30
        }
      ]
    },
    {
      "cell_type": "code",
      "metadata": {
        "id": "-ctxn2XA2O_V",
        "colab_type": "code",
        "colab": {}
      },
      "source": [
        "# Rename counties in cases dataset\n",
        "county_cases['County'].replace({'Elgeyo/Marakwet':'Elgeyo-Marakwet','Nairobi City':'Nairobi','Taita/Taveta':'Taita Taveta'},inplace=True)"
      ],
      "execution_count": null,
      "outputs": []
    },
    {
      "cell_type": "code",
      "metadata": {
        "id": "KhF9Bjbj1q1U",
        "colab_type": "code",
        "colab": {
          "base_uri": "https://localhost:8080/",
          "height": 33
        },
        "outputId": "444bb833-ae24-46f2-af8d-c8340864eae7"
      },
      "source": [
        "# Confirm county naming in population and cases data\n",
        "set(county_cases.County.to_list()).difference(set(county_population.County.to_list()))"
      ],
      "execution_count": null,
      "outputs": [
        {
          "output_type": "execute_result",
          "data": {
            "text/plain": [
              "set()"
            ]
          },
          "metadata": {
            "tags": []
          },
          "execution_count": 32
        }
      ]
    },
    {
      "cell_type": "code",
      "metadata": {
        "id": "qN4Uf1OE4VIe",
        "colab_type": "code",
        "colab": {}
      },
      "source": [
        "# Merge population and cases data on county column\n",
        "pop_cases = pd.merge(county_cases, county_population, on='County')"
      ],
      "execution_count": null,
      "outputs": []
    },
    {
      "cell_type": "code",
      "metadata": {
        "id": "AsfYLefs4uqE",
        "colab_type": "code",
        "colab": {
          "base_uri": "https://localhost:8080/",
          "height": 191
        },
        "outputId": "95d304e2-1311-479f-e098-f9ae4efe9d7f"
      },
      "source": [
        "# Drop redundant column\n",
        "pop_cases.drop(['Population (2019Census KNBS)'], axis=1, inplace=True)\n",
        "pop_cases.head()"
      ],
      "execution_count": null,
      "outputs": [
        {
          "output_type": "execute_result",
          "data": {
            "text/html": [
              "<div>\n",
              "<style scoped>\n",
              "    .dataframe tbody tr th:only-of-type {\n",
              "        vertical-align: middle;\n",
              "    }\n",
              "\n",
              "    .dataframe tbody tr th {\n",
              "        vertical-align: top;\n",
              "    }\n",
              "\n",
              "    .dataframe thead th {\n",
              "        text-align: right;\n",
              "    }\n",
              "</style>\n",
              "<table border=\"1\" class=\"dataframe\">\n",
              "  <thead>\n",
              "    <tr style=\"text-align: right;\">\n",
              "      <th></th>\n",
              "      <th>County</th>\n",
              "      <th>Cumulative Cases</th>\n",
              "      <th>Cases per 100,000 population</th>\n",
              "      <th>2019_Population</th>\n",
              "      <th>Male</th>\n",
              "      <th>Female</th>\n",
              "      <th>Density</th>\n",
              "    </tr>\n",
              "  </thead>\n",
              "  <tbody>\n",
              "    <tr>\n",
              "      <th>0</th>\n",
              "      <td>Nairobi</td>\n",
              "      <td>8618.0</td>\n",
              "      <td>196.0</td>\n",
              "      <td>4,397,073</td>\n",
              "      <td>2,192,452</td>\n",
              "      <td>2,204,376</td>\n",
              "      <td>6,247</td>\n",
              "    </tr>\n",
              "    <tr>\n",
              "      <th>1</th>\n",
              "      <td>Mombasa</td>\n",
              "      <td>1870.0</td>\n",
              "      <td>154.8</td>\n",
              "      <td>1,208,333</td>\n",
              "      <td>610,257</td>\n",
              "      <td>598,046</td>\n",
              "      <td>5,495</td>\n",
              "    </tr>\n",
              "    <tr>\n",
              "      <th>2</th>\n",
              "      <td>Busia</td>\n",
              "      <td>662.0</td>\n",
              "      <td>74.1</td>\n",
              "      <td>893,681</td>\n",
              "      <td>426,252</td>\n",
              "      <td>467,401</td>\n",
              "      <td>526</td>\n",
              "    </tr>\n",
              "    <tr>\n",
              "      <th>3</th>\n",
              "      <td>Kajiado</td>\n",
              "      <td>774.0</td>\n",
              "      <td>69.2</td>\n",
              "      <td>1,117,840</td>\n",
              "      <td>557,098</td>\n",
              "      <td>560,704</td>\n",
              "      <td>51</td>\n",
              "    </tr>\n",
              "    <tr>\n",
              "      <th>4</th>\n",
              "      <td>Kiambu</td>\n",
              "      <td>907.0</td>\n",
              "      <td>37.5</td>\n",
              "      <td>2,417,735</td>\n",
              "      <td>1,187,146</td>\n",
              "      <td>1,230,454</td>\n",
              "      <td>952</td>\n",
              "    </tr>\n",
              "  </tbody>\n",
              "</table>\n",
              "</div>"
            ],
            "text/plain": [
              "    County  Cumulative Cases  ...       Female  Density\n",
              "0  Nairobi            8618.0  ...   2,204,376    6,247 \n",
              "1  Mombasa            1870.0  ...     598,046    5,495 \n",
              "2    Busia             662.0  ...     467,401      526 \n",
              "3  Kajiado             774.0  ...     560,704       51 \n",
              "4   Kiambu             907.0  ...   1,230,454      952 \n",
              "\n",
              "[5 rows x 7 columns]"
            ]
          },
          "metadata": {
            "tags": []
          },
          "execution_count": 34
        }
      ]
    },
    {
      "cell_type": "code",
      "metadata": {
        "id": "kvLSc4IH5N5V",
        "colab_type": "code",
        "colab": {
          "base_uri": "https://localhost:8080/",
          "height": 191
        },
        "outputId": "0d66da0c-d4d1-4730-a96f-4c024fce1844"
      },
      "source": [
        "# Create dataframe with number of health facilities per county\n",
        "hospital_count = pd.DataFrame({'County Name': health_facilities.groupby(['County'])['Facility Name'].count().index, 'hospital_count':health_facilities.groupby(['County'])['Facility Name'].count()})\n",
        "hospital_count.reset_index(inplace=True)\n",
        "hospital_count.drop(['County Name'], axis=1,inplace=True)\n",
        "hospital_count.head()"
      ],
      "execution_count": null,
      "outputs": [
        {
          "output_type": "execute_result",
          "data": {
            "text/html": [
              "<div>\n",
              "<style scoped>\n",
              "    .dataframe tbody tr th:only-of-type {\n",
              "        vertical-align: middle;\n",
              "    }\n",
              "\n",
              "    .dataframe tbody tr th {\n",
              "        vertical-align: top;\n",
              "    }\n",
              "\n",
              "    .dataframe thead th {\n",
              "        text-align: right;\n",
              "    }\n",
              "</style>\n",
              "<table border=\"1\" class=\"dataframe\">\n",
              "  <thead>\n",
              "    <tr style=\"text-align: right;\">\n",
              "      <th></th>\n",
              "      <th>County</th>\n",
              "      <th>hospital_count</th>\n",
              "    </tr>\n",
              "  </thead>\n",
              "  <tbody>\n",
              "    <tr>\n",
              "      <th>0</th>\n",
              "      <td>BARINGO</td>\n",
              "      <td>115</td>\n",
              "    </tr>\n",
              "    <tr>\n",
              "      <th>1</th>\n",
              "      <td>BOMET</td>\n",
              "      <td>77</td>\n",
              "    </tr>\n",
              "    <tr>\n",
              "      <th>2</th>\n",
              "      <td>BUNGOMA</td>\n",
              "      <td>88</td>\n",
              "    </tr>\n",
              "    <tr>\n",
              "      <th>3</th>\n",
              "      <td>BUSIA</td>\n",
              "      <td>81</td>\n",
              "    </tr>\n",
              "    <tr>\n",
              "      <th>4</th>\n",
              "      <td>ELEGEYO-MARAKWET</td>\n",
              "      <td>78</td>\n",
              "    </tr>\n",
              "  </tbody>\n",
              "</table>\n",
              "</div>"
            ],
            "text/plain": [
              "             County  hospital_count\n",
              "0           BARINGO             115\n",
              "1             BOMET              77\n",
              "2           BUNGOMA              88\n",
              "3             BUSIA              81\n",
              "4  ELEGEYO-MARAKWET              78"
            ]
          },
          "metadata": {
            "tags": []
          },
          "execution_count": 35
        }
      ]
    },
    {
      "cell_type": "code",
      "metadata": {
        "id": "638ipJH57o_J",
        "colab_type": "code",
        "colab": {}
      },
      "source": [
        "# Covert county names in merged population cases data to upper case\n",
        "pop_cases['County'] = pop_cases['County'].str.upper()"
      ],
      "execution_count": null,
      "outputs": []
    },
    {
      "cell_type": "code",
      "metadata": {
        "id": "yJRp62dU72pH",
        "colab_type": "code",
        "colab": {
          "base_uri": "https://localhost:8080/",
          "height": 33
        },
        "outputId": "f96fd80e-bfb2-4652-bf9d-704ffb35ee18"
      },
      "source": [
        "# Check for difference between county column in hospital count and merged population cases data\n",
        "set(hospital_count.County.to_list()).difference(set(pop_cases.County.to_list()))"
      ],
      "execution_count": null,
      "outputs": [
        {
          "output_type": "execute_result",
          "data": {
            "text/plain": [
              "{'BARINGO', 'ELEGEYO-MARAKWET', 'SAMBURU', 'THARAKA - NITHI', 'WEST POKOT'}"
            ]
          },
          "metadata": {
            "tags": []
          },
          "execution_count": 37
        }
      ]
    },
    {
      "cell_type": "code",
      "metadata": {
        "id": "_osyKVjA8MFy",
        "colab_type": "code",
        "colab": {
          "base_uri": "https://localhost:8080/",
          "height": 33
        },
        "outputId": "4f535415-6006-4595-a9a4-f79309a44d8b"
      },
      "source": [
        "set(pop_cases.County.to_list()).difference(set(hospital_count.County.to_list()))"
      ],
      "execution_count": null,
      "outputs": [
        {
          "output_type": "execute_result",
          "data": {
            "text/plain": [
              "{'ELGEYO-MARAKWET', 'THARAKA-NITHI'}"
            ]
          },
          "metadata": {
            "tags": []
          },
          "execution_count": 38
        }
      ]
    },
    {
      "cell_type": "code",
      "metadata": {
        "id": "IAWEi0mK8tdL",
        "colab_type": "code",
        "colab": {}
      },
      "source": [
        "# Rename counties in hospital count\n",
        "hospital_count['County'].replace({'ELEGEYO-MARAKWET':'ELGEYO-MARAKWET', 'THARAKA - NITHI': 'THARAKA-NITHI'}, inplace=True)"
      ],
      "execution_count": null,
      "outputs": []
    },
    {
      "cell_type": "code",
      "metadata": {
        "id": "NKrBCCGZ9i4g",
        "colab_type": "code",
        "colab": {
          "base_uri": "https://localhost:8080/",
          "height": 33
        },
        "outputId": "dca3e56d-48c8-42f8-d4fc-65e521437286"
      },
      "source": [
        "# Confirm county naming\n",
        "set(pop_cases.County.to_list()).difference(set(hospital_count.County.to_list()))"
      ],
      "execution_count": null,
      "outputs": [
        {
          "output_type": "execute_result",
          "data": {
            "text/plain": [
              "set()"
            ]
          },
          "metadata": {
            "tags": []
          },
          "execution_count": 40
        }
      ]
    },
    {
      "cell_type": "code",
      "metadata": {
        "id": "bJmA5s2F91de",
        "colab_type": "code",
        "colab": {}
      },
      "source": [
        "#Merge hospital count to population cases data on county column\n",
        "hospital_cases = pd.merge(pop_cases, hospital_count, on='County')"
      ],
      "execution_count": null,
      "outputs": []
    },
    {
      "cell_type": "code",
      "metadata": {
        "id": "F3NrMAQK-EDf",
        "colab_type": "code",
        "colab": {
          "base_uri": "https://localhost:8080/",
          "height": 191
        },
        "outputId": "7a231d4d-0386-4056-cde4-fb7bf85e095c"
      },
      "source": [
        "hospital_cases.head()"
      ],
      "execution_count": null,
      "outputs": [
        {
          "output_type": "execute_result",
          "data": {
            "text/html": [
              "<div>\n",
              "<style scoped>\n",
              "    .dataframe tbody tr th:only-of-type {\n",
              "        vertical-align: middle;\n",
              "    }\n",
              "\n",
              "    .dataframe tbody tr th {\n",
              "        vertical-align: top;\n",
              "    }\n",
              "\n",
              "    .dataframe thead th {\n",
              "        text-align: right;\n",
              "    }\n",
              "</style>\n",
              "<table border=\"1\" class=\"dataframe\">\n",
              "  <thead>\n",
              "    <tr style=\"text-align: right;\">\n",
              "      <th></th>\n",
              "      <th>County</th>\n",
              "      <th>Cumulative Cases</th>\n",
              "      <th>Cases per 100,000 population</th>\n",
              "      <th>2019_Population</th>\n",
              "      <th>Male</th>\n",
              "      <th>Female</th>\n",
              "      <th>Density</th>\n",
              "      <th>hospital_count</th>\n",
              "    </tr>\n",
              "  </thead>\n",
              "  <tbody>\n",
              "    <tr>\n",
              "      <th>0</th>\n",
              "      <td>NAIROBI</td>\n",
              "      <td>8618.0</td>\n",
              "      <td>196.0</td>\n",
              "      <td>4,397,073</td>\n",
              "      <td>2,192,452</td>\n",
              "      <td>2,204,376</td>\n",
              "      <td>6,247</td>\n",
              "      <td>170</td>\n",
              "    </tr>\n",
              "    <tr>\n",
              "      <th>1</th>\n",
              "      <td>MOMBASA</td>\n",
              "      <td>1870.0</td>\n",
              "      <td>154.8</td>\n",
              "      <td>1,208,333</td>\n",
              "      <td>610,257</td>\n",
              "      <td>598,046</td>\n",
              "      <td>5,495</td>\n",
              "      <td>129</td>\n",
              "    </tr>\n",
              "    <tr>\n",
              "      <th>2</th>\n",
              "      <td>BUSIA</td>\n",
              "      <td>662.0</td>\n",
              "      <td>74.1</td>\n",
              "      <td>893,681</td>\n",
              "      <td>426,252</td>\n",
              "      <td>467,401</td>\n",
              "      <td>526</td>\n",
              "      <td>81</td>\n",
              "    </tr>\n",
              "    <tr>\n",
              "      <th>3</th>\n",
              "      <td>KAJIADO</td>\n",
              "      <td>774.0</td>\n",
              "      <td>69.2</td>\n",
              "      <td>1,117,840</td>\n",
              "      <td>557,098</td>\n",
              "      <td>560,704</td>\n",
              "      <td>51</td>\n",
              "      <td>114</td>\n",
              "    </tr>\n",
              "    <tr>\n",
              "      <th>4</th>\n",
              "      <td>KIAMBU</td>\n",
              "      <td>907.0</td>\n",
              "      <td>37.5</td>\n",
              "      <td>2,417,735</td>\n",
              "      <td>1,187,146</td>\n",
              "      <td>1,230,454</td>\n",
              "      <td>952</td>\n",
              "      <td>165</td>\n",
              "    </tr>\n",
              "  </tbody>\n",
              "</table>\n",
              "</div>"
            ],
            "text/plain": [
              "    County  Cumulative Cases  ...  Density hospital_count\n",
              "0  NAIROBI            8618.0  ...   6,247             170\n",
              "1  MOMBASA            1870.0  ...   5,495             129\n",
              "2    BUSIA             662.0  ...     526              81\n",
              "3  KAJIADO             774.0  ...      51             114\n",
              "4   KIAMBU             907.0  ...     952             165\n",
              "\n",
              "[5 rows x 8 columns]"
            ]
          },
          "metadata": {
            "tags": []
          },
          "execution_count": 42
        }
      ]
    },
    {
      "cell_type": "code",
      "metadata": {
        "id": "O1zM-zor-mwS",
        "colab_type": "code",
        "colab": {}
      },
      "source": [
        "# Create dataframe consisting of total isolation beds, recommended isolation beds per county\n",
        "rec_beds = pd.DataFrame({'Isolation_beds':ICU_beds.groupby(['County'])['Regular Isolation Beds Available'].sum(), 'Recommended_beds':ICU_beds.groupby(['County'])['Regular Isolation Beds Recommended'].sum()})\n",
        "rec_beds.reset_index(inplace=True)"
      ],
      "execution_count": null,
      "outputs": []
    },
    {
      "cell_type": "code",
      "metadata": {
        "id": "-ouXxhI4-nN_",
        "colab_type": "code",
        "colab": {}
      },
      "source": [
        "# Convert county column to uppercase\n",
        "rec_beds.County = rec_beds.County.str.upper()"
      ],
      "execution_count": null,
      "outputs": []
    },
    {
      "cell_type": "code",
      "metadata": {
        "id": "dIBnx8wO-nXn",
        "colab_type": "code",
        "colab": {
          "base_uri": "https://localhost:8080/",
          "height": 115
        },
        "outputId": "26cedcf8-79d6-476e-8b8e-8457ca8d4142"
      },
      "source": [
        "# Check for differences in county naming\n",
        "set(hospital_cases.County.to_list()).difference(set(rec_beds.County.to_list()))"
      ],
      "execution_count": null,
      "outputs": [
        {
          "output_type": "execute_result",
          "data": {
            "text/plain": [
              "{'ELGEYO-MARAKWET',\n",
              " 'KWALE',\n",
              " \"MURANG'A\",\n",
              " 'THARAKA-NITHI',\n",
              " 'TRANS NZOIA',\n",
              " 'UASIN GISHU'}"
            ]
          },
          "metadata": {
            "tags": []
          },
          "execution_count": 45
        }
      ]
    },
    {
      "cell_type": "code",
      "metadata": {
        "id": "Jzgl1Ypw-nhf",
        "colab_type": "code",
        "colab": {
          "base_uri": "https://localhost:8080/",
          "height": 147
        },
        "outputId": "b8d88899-8330-4328-846e-97685b42a19f"
      },
      "source": [
        "set(rec_beds.County.to_list()).difference(set(hospital_cases.County.to_list()))"
      ],
      "execution_count": null,
      "outputs": [
        {
          "output_type": "execute_result",
          "data": {
            "text/plain": [
              "{'BARINGO',\n",
              " 'ELGEYO MARAKWET',\n",
              " 'MURANGA',\n",
              " 'SAMBURU',\n",
              " 'THARAKA NITHI',\n",
              " 'TRANZOIA',\n",
              " 'UASIN GICHU',\n",
              " 'WEST POKOT'}"
            ]
          },
          "metadata": {
            "tags": []
          },
          "execution_count": 46
        }
      ]
    },
    {
      "cell_type": "code",
      "metadata": {
        "id": "8M0pV_Ib-nf6",
        "colab_type": "code",
        "colab": {}
      },
      "source": [
        "# Rename counties in recommended beds data\n",
        "rec_beds['County'].replace({'ELGEYO MARAKWET':'ELGEYO-MARAKWET','THARAKA NITHI': 'THARAKA-NITHI','TRANZOIA':'TRANS NZOIA','MURANGA':\"MURANG'A\", 'UASIN GICHU':'UASIN GISHU'}, inplace=True)"
      ],
      "execution_count": null,
      "outputs": []
    },
    {
      "cell_type": "code",
      "metadata": {
        "id": "djNny7fp-nUX",
        "colab_type": "code",
        "colab": {}
      },
      "source": [
        "# Merge recommended beds data to other data\n",
        "final_df = pd.merge(hospital_cases, rec_beds, on='County')"
      ],
      "execution_count": null,
      "outputs": []
    },
    {
      "cell_type": "markdown",
      "metadata": {
        "id": "bDdn_Pa75exP",
        "colab_type": "text"
      },
      "source": [
        "# DATA ANALYSIS"
      ]
    },
    {
      "cell_type": "code",
      "metadata": {
        "id": "E1l-3ejK-nMI",
        "colab_type": "code",
        "colab": {
          "base_uri": "https://localhost:8080/",
          "height": 191
        },
        "outputId": "892af081-a272-4861-90be-e7dd85a055f8"
      },
      "source": [
        "final_df.head()"
      ],
      "execution_count": null,
      "outputs": [
        {
          "output_type": "execute_result",
          "data": {
            "text/html": [
              "<div>\n",
              "<style scoped>\n",
              "    .dataframe tbody tr th:only-of-type {\n",
              "        vertical-align: middle;\n",
              "    }\n",
              "\n",
              "    .dataframe tbody tr th {\n",
              "        vertical-align: top;\n",
              "    }\n",
              "\n",
              "    .dataframe thead th {\n",
              "        text-align: right;\n",
              "    }\n",
              "</style>\n",
              "<table border=\"1\" class=\"dataframe\">\n",
              "  <thead>\n",
              "    <tr style=\"text-align: right;\">\n",
              "      <th></th>\n",
              "      <th>County</th>\n",
              "      <th>Cumulative Cases</th>\n",
              "      <th>Cases per 100,000 population</th>\n",
              "      <th>2019_Population</th>\n",
              "      <th>Male</th>\n",
              "      <th>Female</th>\n",
              "      <th>Density</th>\n",
              "      <th>hospital_count</th>\n",
              "      <th>Isolation_beds</th>\n",
              "      <th>Recommended_beds</th>\n",
              "    </tr>\n",
              "  </thead>\n",
              "  <tbody>\n",
              "    <tr>\n",
              "      <th>0</th>\n",
              "      <td>NAIROBI</td>\n",
              "      <td>8618.0</td>\n",
              "      <td>196.0</td>\n",
              "      <td>4,397,073</td>\n",
              "      <td>2,192,452</td>\n",
              "      <td>2,204,376</td>\n",
              "      <td>6,247</td>\n",
              "      <td>170</td>\n",
              "      <td>582.0</td>\n",
              "      <td>716.0</td>\n",
              "    </tr>\n",
              "    <tr>\n",
              "      <th>1</th>\n",
              "      <td>MOMBASA</td>\n",
              "      <td>1870.0</td>\n",
              "      <td>154.8</td>\n",
              "      <td>1,208,333</td>\n",
              "      <td>610,257</td>\n",
              "      <td>598,046</td>\n",
              "      <td>5,495</td>\n",
              "      <td>129</td>\n",
              "      <td>25.0</td>\n",
              "      <td>90.0</td>\n",
              "    </tr>\n",
              "    <tr>\n",
              "      <th>2</th>\n",
              "      <td>BUSIA</td>\n",
              "      <td>662.0</td>\n",
              "      <td>74.1</td>\n",
              "      <td>893,681</td>\n",
              "      <td>426,252</td>\n",
              "      <td>467,401</td>\n",
              "      <td>526</td>\n",
              "      <td>81</td>\n",
              "      <td>100.0</td>\n",
              "      <td>20.0</td>\n",
              "    </tr>\n",
              "    <tr>\n",
              "      <th>3</th>\n",
              "      <td>KAJIADO</td>\n",
              "      <td>774.0</td>\n",
              "      <td>69.2</td>\n",
              "      <td>1,117,840</td>\n",
              "      <td>557,098</td>\n",
              "      <td>560,704</td>\n",
              "      <td>51</td>\n",
              "      <td>114</td>\n",
              "      <td>28.0</td>\n",
              "      <td>40.0</td>\n",
              "    </tr>\n",
              "    <tr>\n",
              "      <th>4</th>\n",
              "      <td>KIAMBU</td>\n",
              "      <td>907.0</td>\n",
              "      <td>37.5</td>\n",
              "      <td>2,417,735</td>\n",
              "      <td>1,187,146</td>\n",
              "      <td>1,230,454</td>\n",
              "      <td>952</td>\n",
              "      <td>165</td>\n",
              "      <td>34.0</td>\n",
              "      <td>120.0</td>\n",
              "    </tr>\n",
              "  </tbody>\n",
              "</table>\n",
              "</div>"
            ],
            "text/plain": [
              "    County  Cumulative Cases  ...  Isolation_beds Recommended_beds\n",
              "0  NAIROBI            8618.0  ...           582.0            716.0\n",
              "1  MOMBASA            1870.0  ...            25.0             90.0\n",
              "2    BUSIA             662.0  ...           100.0             20.0\n",
              "3  KAJIADO             774.0  ...            28.0             40.0\n",
              "4   KIAMBU             907.0  ...            34.0            120.0\n",
              "\n",
              "[5 rows x 10 columns]"
            ]
          },
          "metadata": {
            "tags": []
          },
          "execution_count": 49
        }
      ]
    },
    {
      "cell_type": "code",
      "metadata": {
        "id": "Xk0UBORw-nCN",
        "colab_type": "code",
        "colab": {
          "base_uri": "https://localhost:8080/",
          "height": 196
        },
        "outputId": "08c06717-967c-4dc9-a6c2-2060b495b6d0"
      },
      "source": [
        "final_df.dtypes"
      ],
      "execution_count": null,
      "outputs": [
        {
          "output_type": "execute_result",
          "data": {
            "text/plain": [
              "County                           object\n",
              "Cumulative Cases                float64\n",
              "Cases per 100,000 population    float64\n",
              "2019_Population                  object\n",
              "Male                             object\n",
              "Female                           object\n",
              "Density                          object\n",
              "hospital_count                    int64\n",
              "Isolation_beds                  float64\n",
              "Recommended_beds                float64\n",
              "dtype: object"
            ]
          },
          "metadata": {
            "tags": []
          },
          "execution_count": 50
        }
      ]
    },
    {
      "cell_type": "code",
      "metadata": {
        "id": "DoajL5iK-m5n",
        "colab_type": "code",
        "colab": {}
      },
      "source": [
        "# Get difference between recommended isolation beds and bed available\n",
        "final_df['bed_preparedness'] = final_df.Recommended_beds - final_df.Isolation_beds"
      ],
      "execution_count": null,
      "outputs": []
    },
    {
      "cell_type": "code",
      "metadata": {
        "id": "GNgeFolkXjE6",
        "colab_type": "code",
        "colab": {}
      },
      "source": [
        "# Create rank variable based on bed preparedness - a larger value signifies larger deficit in number of beds hence lower rank\n",
        "final_df['bed_surplus_rank'] = final_df['bed_preparedness'].rank(ascending=True)"
      ],
      "execution_count": null,
      "outputs": []
    },
    {
      "cell_type": "code",
      "metadata": {
        "id": "aE5ySbrDWJvg",
        "colab_type": "code",
        "colab": {
          "base_uri": "https://localhost:8080/",
          "height": 191
        },
        "outputId": "34b02dce-ab6d-4b6e-af1c-9c826bb3c76c"
      },
      "source": [
        "final_df.head()"
      ],
      "execution_count": null,
      "outputs": [
        {
          "output_type": "execute_result",
          "data": {
            "text/html": [
              "<div>\n",
              "<style scoped>\n",
              "    .dataframe tbody tr th:only-of-type {\n",
              "        vertical-align: middle;\n",
              "    }\n",
              "\n",
              "    .dataframe tbody tr th {\n",
              "        vertical-align: top;\n",
              "    }\n",
              "\n",
              "    .dataframe thead th {\n",
              "        text-align: right;\n",
              "    }\n",
              "</style>\n",
              "<table border=\"1\" class=\"dataframe\">\n",
              "  <thead>\n",
              "    <tr style=\"text-align: right;\">\n",
              "      <th></th>\n",
              "      <th>County</th>\n",
              "      <th>Cumulative Cases</th>\n",
              "      <th>Cases per 100,000 population</th>\n",
              "      <th>2019_Population</th>\n",
              "      <th>Male</th>\n",
              "      <th>Female</th>\n",
              "      <th>Density</th>\n",
              "      <th>hospital_count</th>\n",
              "      <th>Isolation_beds</th>\n",
              "      <th>Recommended_beds</th>\n",
              "      <th>bed_preparedness</th>\n",
              "      <th>bed_surplus_rank</th>\n",
              "    </tr>\n",
              "  </thead>\n",
              "  <tbody>\n",
              "    <tr>\n",
              "      <th>0</th>\n",
              "      <td>NAIROBI</td>\n",
              "      <td>8618.0</td>\n",
              "      <td>196.0</td>\n",
              "      <td>4,397,073</td>\n",
              "      <td>2,192,452</td>\n",
              "      <td>2,204,376</td>\n",
              "      <td>6,247</td>\n",
              "      <td>170</td>\n",
              "      <td>582.0</td>\n",
              "      <td>716.0</td>\n",
              "      <td>134.0</td>\n",
              "      <td>43.0</td>\n",
              "    </tr>\n",
              "    <tr>\n",
              "      <th>1</th>\n",
              "      <td>MOMBASA</td>\n",
              "      <td>1870.0</td>\n",
              "      <td>154.8</td>\n",
              "      <td>1,208,333</td>\n",
              "      <td>610,257</td>\n",
              "      <td>598,046</td>\n",
              "      <td>5,495</td>\n",
              "      <td>129</td>\n",
              "      <td>25.0</td>\n",
              "      <td>90.0</td>\n",
              "      <td>65.0</td>\n",
              "      <td>40.0</td>\n",
              "    </tr>\n",
              "    <tr>\n",
              "      <th>2</th>\n",
              "      <td>BUSIA</td>\n",
              "      <td>662.0</td>\n",
              "      <td>74.1</td>\n",
              "      <td>893,681</td>\n",
              "      <td>426,252</td>\n",
              "      <td>467,401</td>\n",
              "      <td>526</td>\n",
              "      <td>81</td>\n",
              "      <td>100.0</td>\n",
              "      <td>20.0</td>\n",
              "      <td>-80.0</td>\n",
              "      <td>1.0</td>\n",
              "    </tr>\n",
              "    <tr>\n",
              "      <th>3</th>\n",
              "      <td>KAJIADO</td>\n",
              "      <td>774.0</td>\n",
              "      <td>69.2</td>\n",
              "      <td>1,117,840</td>\n",
              "      <td>557,098</td>\n",
              "      <td>560,704</td>\n",
              "      <td>51</td>\n",
              "      <td>114</td>\n",
              "      <td>28.0</td>\n",
              "      <td>40.0</td>\n",
              "      <td>12.0</td>\n",
              "      <td>22.5</td>\n",
              "    </tr>\n",
              "    <tr>\n",
              "      <th>4</th>\n",
              "      <td>KIAMBU</td>\n",
              "      <td>907.0</td>\n",
              "      <td>37.5</td>\n",
              "      <td>2,417,735</td>\n",
              "      <td>1,187,146</td>\n",
              "      <td>1,230,454</td>\n",
              "      <td>952</td>\n",
              "      <td>165</td>\n",
              "      <td>34.0</td>\n",
              "      <td>120.0</td>\n",
              "      <td>86.0</td>\n",
              "      <td>42.0</td>\n",
              "    </tr>\n",
              "  </tbody>\n",
              "</table>\n",
              "</div>"
            ],
            "text/plain": [
              "    County  Cumulative Cases  ...  bed_preparedness bed_surplus_rank\n",
              "0  NAIROBI            8618.0  ...             134.0             43.0\n",
              "1  MOMBASA            1870.0  ...              65.0             40.0\n",
              "2    BUSIA             662.0  ...             -80.0              1.0\n",
              "3  KAJIADO             774.0  ...              12.0             22.5\n",
              "4   KIAMBU             907.0  ...              86.0             42.0\n",
              "\n",
              "[5 rows x 12 columns]"
            ]
          },
          "metadata": {
            "tags": []
          },
          "execution_count": 53
        }
      ]
    },
    {
      "cell_type": "code",
      "metadata": {
        "id": "Y041FjDQWJ7D",
        "colab_type": "code",
        "colab": {}
      },
      "source": [
        "# Change datatype to integer\n",
        "final_df['2019_Population'] = final_df['2019_Population'].str.replace(\",\", \"\").astype(np.int64)"
      ],
      "execution_count": null,
      "outputs": []
    },
    {
      "cell_type": "code",
      "metadata": {
        "id": "qsbzvfNPWKIN",
        "colab_type": "code",
        "colab": {}
      },
      "source": [
        "# Calculate bed to population ratio\n",
        "final_df['bed_pop_ratio'] = final_df.Isolation_beds / final_df['2019_Population']"
      ],
      "execution_count": null,
      "outputs": []
    },
    {
      "cell_type": "code",
      "metadata": {
        "id": "E5y4_h1CWKWT",
        "colab_type": "code",
        "colab": {
          "base_uri": "https://localhost:8080/",
          "height": 207
        },
        "outputId": "f3b18751-452e-4bff-dd76-e9736e5958f4"
      },
      "source": [
        "final_df.head()"
      ],
      "execution_count": null,
      "outputs": [
        {
          "output_type": "execute_result",
          "data": {
            "text/html": [
              "<div>\n",
              "<style scoped>\n",
              "    .dataframe tbody tr th:only-of-type {\n",
              "        vertical-align: middle;\n",
              "    }\n",
              "\n",
              "    .dataframe tbody tr th {\n",
              "        vertical-align: top;\n",
              "    }\n",
              "\n",
              "    .dataframe thead th {\n",
              "        text-align: right;\n",
              "    }\n",
              "</style>\n",
              "<table border=\"1\" class=\"dataframe\">\n",
              "  <thead>\n",
              "    <tr style=\"text-align: right;\">\n",
              "      <th></th>\n",
              "      <th>County</th>\n",
              "      <th>Cumulative Cases</th>\n",
              "      <th>Cases per 100,000 population</th>\n",
              "      <th>2019_Population</th>\n",
              "      <th>Male</th>\n",
              "      <th>Female</th>\n",
              "      <th>Density</th>\n",
              "      <th>hospital_count</th>\n",
              "      <th>Isolation_beds</th>\n",
              "      <th>Recommended_beds</th>\n",
              "      <th>bed_preparedness</th>\n",
              "      <th>bed_surplus_rank</th>\n",
              "      <th>bed_pop_ratio</th>\n",
              "    </tr>\n",
              "  </thead>\n",
              "  <tbody>\n",
              "    <tr>\n",
              "      <th>0</th>\n",
              "      <td>NAIROBI</td>\n",
              "      <td>8618.0</td>\n",
              "      <td>196.0</td>\n",
              "      <td>4397073</td>\n",
              "      <td>2,192,452</td>\n",
              "      <td>2,204,376</td>\n",
              "      <td>6,247</td>\n",
              "      <td>170</td>\n",
              "      <td>582.0</td>\n",
              "      <td>716.0</td>\n",
              "      <td>134.0</td>\n",
              "      <td>43.0</td>\n",
              "      <td>0.000132</td>\n",
              "    </tr>\n",
              "    <tr>\n",
              "      <th>1</th>\n",
              "      <td>MOMBASA</td>\n",
              "      <td>1870.0</td>\n",
              "      <td>154.8</td>\n",
              "      <td>1208333</td>\n",
              "      <td>610,257</td>\n",
              "      <td>598,046</td>\n",
              "      <td>5,495</td>\n",
              "      <td>129</td>\n",
              "      <td>25.0</td>\n",
              "      <td>90.0</td>\n",
              "      <td>65.0</td>\n",
              "      <td>40.0</td>\n",
              "      <td>0.000021</td>\n",
              "    </tr>\n",
              "    <tr>\n",
              "      <th>2</th>\n",
              "      <td>BUSIA</td>\n",
              "      <td>662.0</td>\n",
              "      <td>74.1</td>\n",
              "      <td>893681</td>\n",
              "      <td>426,252</td>\n",
              "      <td>467,401</td>\n",
              "      <td>526</td>\n",
              "      <td>81</td>\n",
              "      <td>100.0</td>\n",
              "      <td>20.0</td>\n",
              "      <td>-80.0</td>\n",
              "      <td>1.0</td>\n",
              "      <td>0.000112</td>\n",
              "    </tr>\n",
              "    <tr>\n",
              "      <th>3</th>\n",
              "      <td>KAJIADO</td>\n",
              "      <td>774.0</td>\n",
              "      <td>69.2</td>\n",
              "      <td>1117840</td>\n",
              "      <td>557,098</td>\n",
              "      <td>560,704</td>\n",
              "      <td>51</td>\n",
              "      <td>114</td>\n",
              "      <td>28.0</td>\n",
              "      <td>40.0</td>\n",
              "      <td>12.0</td>\n",
              "      <td>22.5</td>\n",
              "      <td>0.000025</td>\n",
              "    </tr>\n",
              "    <tr>\n",
              "      <th>4</th>\n",
              "      <td>KIAMBU</td>\n",
              "      <td>907.0</td>\n",
              "      <td>37.5</td>\n",
              "      <td>2417735</td>\n",
              "      <td>1,187,146</td>\n",
              "      <td>1,230,454</td>\n",
              "      <td>952</td>\n",
              "      <td>165</td>\n",
              "      <td>34.0</td>\n",
              "      <td>120.0</td>\n",
              "      <td>86.0</td>\n",
              "      <td>42.0</td>\n",
              "      <td>0.000014</td>\n",
              "    </tr>\n",
              "  </tbody>\n",
              "</table>\n",
              "</div>"
            ],
            "text/plain": [
              "    County  Cumulative Cases  ...  bed_surplus_rank  bed_pop_ratio\n",
              "0  NAIROBI            8618.0  ...              43.0       0.000132\n",
              "1  MOMBASA            1870.0  ...              40.0       0.000021\n",
              "2    BUSIA             662.0  ...               1.0       0.000112\n",
              "3  KAJIADO             774.0  ...              22.5       0.000025\n",
              "4   KIAMBU             907.0  ...              42.0       0.000014\n",
              "\n",
              "[5 rows x 13 columns]"
            ]
          },
          "metadata": {
            "tags": []
          },
          "execution_count": 56
        }
      ]
    },
    {
      "cell_type": "code",
      "metadata": {
        "id": "KAGKG0pCWKiq",
        "colab_type": "code",
        "colab": {}
      },
      "source": [
        "# Change datatype to integer\n",
        "final_df['Density'] = final_df.Density.str.replace(\",\",\"\").astype(np.int64)"
      ],
      "execution_count": null,
      "outputs": []
    },
    {
      "cell_type": "code",
      "metadata": {
        "id": "sW0e1r5uWKgA",
        "colab_type": "code",
        "colab": {}
      },
      "source": [
        "# Rank counties based on hospital count, a higher hospital count signifies better capacity handling hence higher rank\n",
        "final_df['hospital_count_rank'] = final_df['hospital_count'].rank(ascending=False)"
      ],
      "execution_count": null,
      "outputs": []
    },
    {
      "cell_type": "code",
      "metadata": {
        "id": "t0MhO5M8WKSD",
        "colab_type": "code",
        "colab": {}
      },
      "source": [
        "# Rank counties based on cumulative cases, a higher number signifies a higher probability of infections hence lower rank in preparedness\n",
        "final_df['cases_rank'] = final_df['Cumulative Cases'].rank(ascending=True)"
      ],
      "execution_count": null,
      "outputs": []
    },
    {
      "cell_type": "code",
      "metadata": {
        "id": "uBFGD3ZzWKF_",
        "colab_type": "code",
        "colab": {}
      },
      "source": [
        "# Rank counties based on ranking [number of people per sq km], a higher number signifies a higher probability of infections hence lower rank in preparedness\n",
        "final_df['density_rank'] = final_df['Density'].rank(ascending=True)"
      ],
      "execution_count": null,
      "outputs": []
    },
    {
      "cell_type": "code",
      "metadata": {
        "id": "4OIuVajnb4hH",
        "colab_type": "code",
        "colab": {}
      },
      "source": [
        "# Rank counties based on bed to population ratio, a higher ratio means fewer people are assigned to one bed hence better preparedness hence higher rank\n",
        "final_df['bed_pop_ratio_rank'] = (final_df['bed_pop_ratio'] * 100000).rank(ascending=False)"
      ],
      "execution_count": null,
      "outputs": []
    },
    {
      "cell_type": "code",
      "metadata": {
        "id": "uzqno7Qsb4sQ",
        "colab_type": "code",
        "colab": {
          "base_uri": "https://localhost:8080/",
          "height": 243
        },
        "outputId": "8f40eac7-ce19-450e-fac9-79d006e43d33"
      },
      "source": [
        "final_df.head()"
      ],
      "execution_count": null,
      "outputs": [
        {
          "output_type": "execute_result",
          "data": {
            "text/html": [
              "<div>\n",
              "<style scoped>\n",
              "    .dataframe tbody tr th:only-of-type {\n",
              "        vertical-align: middle;\n",
              "    }\n",
              "\n",
              "    .dataframe tbody tr th {\n",
              "        vertical-align: top;\n",
              "    }\n",
              "\n",
              "    .dataframe thead th {\n",
              "        text-align: right;\n",
              "    }\n",
              "</style>\n",
              "<table border=\"1\" class=\"dataframe\">\n",
              "  <thead>\n",
              "    <tr style=\"text-align: right;\">\n",
              "      <th></th>\n",
              "      <th>County</th>\n",
              "      <th>Cumulative Cases</th>\n",
              "      <th>Cases per 100,000 population</th>\n",
              "      <th>2019_Population</th>\n",
              "      <th>Male</th>\n",
              "      <th>Female</th>\n",
              "      <th>Density</th>\n",
              "      <th>hospital_count</th>\n",
              "      <th>Isolation_beds</th>\n",
              "      <th>Recommended_beds</th>\n",
              "      <th>bed_preparedness</th>\n",
              "      <th>bed_surplus_rank</th>\n",
              "      <th>bed_pop_ratio</th>\n",
              "      <th>hospital_count_rank</th>\n",
              "      <th>cases_rank</th>\n",
              "      <th>density_rank</th>\n",
              "      <th>bed_pop_ratio_rank</th>\n",
              "    </tr>\n",
              "  </thead>\n",
              "  <tbody>\n",
              "    <tr>\n",
              "      <th>0</th>\n",
              "      <td>NAIROBI</td>\n",
              "      <td>8618.0</td>\n",
              "      <td>196.0</td>\n",
              "      <td>4397073</td>\n",
              "      <td>2,192,452</td>\n",
              "      <td>2,204,376</td>\n",
              "      <td>6247</td>\n",
              "      <td>170</td>\n",
              "      <td>582.0</td>\n",
              "      <td>716.0</td>\n",
              "      <td>134.0</td>\n",
              "      <td>43.0</td>\n",
              "      <td>0.000132</td>\n",
              "      <td>7.0</td>\n",
              "      <td>43.0</td>\n",
              "      <td>43.0</td>\n",
              "      <td>1.0</td>\n",
              "    </tr>\n",
              "    <tr>\n",
              "      <th>1</th>\n",
              "      <td>MOMBASA</td>\n",
              "      <td>1870.0</td>\n",
              "      <td>154.8</td>\n",
              "      <td>1208333</td>\n",
              "      <td>610,257</td>\n",
              "      <td>598,046</td>\n",
              "      <td>5495</td>\n",
              "      <td>129</td>\n",
              "      <td>25.0</td>\n",
              "      <td>90.0</td>\n",
              "      <td>65.0</td>\n",
              "      <td>40.0</td>\n",
              "      <td>0.000021</td>\n",
              "      <td>12.0</td>\n",
              "      <td>42.0</td>\n",
              "      <td>42.0</td>\n",
              "      <td>27.0</td>\n",
              "    </tr>\n",
              "    <tr>\n",
              "      <th>2</th>\n",
              "      <td>BUSIA</td>\n",
              "      <td>662.0</td>\n",
              "      <td>74.1</td>\n",
              "      <td>893681</td>\n",
              "      <td>426,252</td>\n",
              "      <td>467,401</td>\n",
              "      <td>526</td>\n",
              "      <td>81</td>\n",
              "      <td>100.0</td>\n",
              "      <td>20.0</td>\n",
              "      <td>-80.0</td>\n",
              "      <td>1.0</td>\n",
              "      <td>0.000112</td>\n",
              "      <td>25.5</td>\n",
              "      <td>39.0</td>\n",
              "      <td>34.0</td>\n",
              "      <td>4.0</td>\n",
              "    </tr>\n",
              "    <tr>\n",
              "      <th>3</th>\n",
              "      <td>KAJIADO</td>\n",
              "      <td>774.0</td>\n",
              "      <td>69.2</td>\n",
              "      <td>1117840</td>\n",
              "      <td>557,098</td>\n",
              "      <td>560,704</td>\n",
              "      <td>51</td>\n",
              "      <td>114</td>\n",
              "      <td>28.0</td>\n",
              "      <td>40.0</td>\n",
              "      <td>12.0</td>\n",
              "      <td>22.5</td>\n",
              "      <td>0.000025</td>\n",
              "      <td>17.0</td>\n",
              "      <td>40.0</td>\n",
              "      <td>11.0</td>\n",
              "      <td>24.0</td>\n",
              "    </tr>\n",
              "    <tr>\n",
              "      <th>4</th>\n",
              "      <td>KIAMBU</td>\n",
              "      <td>907.0</td>\n",
              "      <td>37.5</td>\n",
              "      <td>2417735</td>\n",
              "      <td>1,187,146</td>\n",
              "      <td>1,230,454</td>\n",
              "      <td>952</td>\n",
              "      <td>165</td>\n",
              "      <td>34.0</td>\n",
              "      <td>120.0</td>\n",
              "      <td>86.0</td>\n",
              "      <td>42.0</td>\n",
              "      <td>0.000014</td>\n",
              "      <td>9.0</td>\n",
              "      <td>41.0</td>\n",
              "      <td>39.0</td>\n",
              "      <td>33.0</td>\n",
              "    </tr>\n",
              "  </tbody>\n",
              "</table>\n",
              "</div>"
            ],
            "text/plain": [
              "    County  Cumulative Cases  ...  density_rank  bed_pop_ratio_rank\n",
              "0  NAIROBI            8618.0  ...          43.0                 1.0\n",
              "1  MOMBASA            1870.0  ...          42.0                27.0\n",
              "2    BUSIA             662.0  ...          34.0                 4.0\n",
              "3  KAJIADO             774.0  ...          11.0                24.0\n",
              "4   KIAMBU             907.0  ...          39.0                33.0\n",
              "\n",
              "[5 rows x 17 columns]"
            ]
          },
          "metadata": {
            "tags": []
          },
          "execution_count": 62
        }
      ]
    },
    {
      "cell_type": "code",
      "metadata": {
        "id": "NUjT1P-pb4e-",
        "colab_type": "code",
        "colab": {
          "base_uri": "https://localhost:8080/",
          "height": 288
        },
        "outputId": "3de65441-5b11-42da-b16e-b6c4d579d912"
      },
      "source": [
        "# Compute aggregate ranking of counties\n",
        "rank_df = final_df[['bed_pop_ratio_rank','bed_surplus_rank','hospital_count_rank','cases_rank','density_rank']]\n",
        "rank_df['agg'] = rank_df.mean(axis=1)\n",
        "rank_df.head()"
      ],
      "execution_count": null,
      "outputs": [
        {
          "output_type": "stream",
          "text": [
            "/usr/local/lib/python3.6/dist-packages/ipykernel_launcher.py:3: SettingWithCopyWarning: \n",
            "A value is trying to be set on a copy of a slice from a DataFrame.\n",
            "Try using .loc[row_indexer,col_indexer] = value instead\n",
            "\n",
            "See the caveats in the documentation: https://pandas.pydata.org/pandas-docs/stable/user_guide/indexing.html#returning-a-view-versus-a-copy\n",
            "  This is separate from the ipykernel package so we can avoid doing imports until\n"
          ],
          "name": "stderr"
        },
        {
          "output_type": "execute_result",
          "data": {
            "text/html": [
              "<div>\n",
              "<style scoped>\n",
              "    .dataframe tbody tr th:only-of-type {\n",
              "        vertical-align: middle;\n",
              "    }\n",
              "\n",
              "    .dataframe tbody tr th {\n",
              "        vertical-align: top;\n",
              "    }\n",
              "\n",
              "    .dataframe thead th {\n",
              "        text-align: right;\n",
              "    }\n",
              "</style>\n",
              "<table border=\"1\" class=\"dataframe\">\n",
              "  <thead>\n",
              "    <tr style=\"text-align: right;\">\n",
              "      <th></th>\n",
              "      <th>bed_pop_ratio_rank</th>\n",
              "      <th>bed_surplus_rank</th>\n",
              "      <th>hospital_count_rank</th>\n",
              "      <th>cases_rank</th>\n",
              "      <th>density_rank</th>\n",
              "      <th>agg</th>\n",
              "    </tr>\n",
              "  </thead>\n",
              "  <tbody>\n",
              "    <tr>\n",
              "      <th>0</th>\n",
              "      <td>1.0</td>\n",
              "      <td>43.0</td>\n",
              "      <td>7.0</td>\n",
              "      <td>43.0</td>\n",
              "      <td>43.0</td>\n",
              "      <td>27.4</td>\n",
              "    </tr>\n",
              "    <tr>\n",
              "      <th>1</th>\n",
              "      <td>27.0</td>\n",
              "      <td>40.0</td>\n",
              "      <td>12.0</td>\n",
              "      <td>42.0</td>\n",
              "      <td>42.0</td>\n",
              "      <td>32.6</td>\n",
              "    </tr>\n",
              "    <tr>\n",
              "      <th>2</th>\n",
              "      <td>4.0</td>\n",
              "      <td>1.0</td>\n",
              "      <td>25.5</td>\n",
              "      <td>39.0</td>\n",
              "      <td>34.0</td>\n",
              "      <td>20.7</td>\n",
              "    </tr>\n",
              "    <tr>\n",
              "      <th>3</th>\n",
              "      <td>24.0</td>\n",
              "      <td>22.5</td>\n",
              "      <td>17.0</td>\n",
              "      <td>40.0</td>\n",
              "      <td>11.0</td>\n",
              "      <td>22.9</td>\n",
              "    </tr>\n",
              "    <tr>\n",
              "      <th>4</th>\n",
              "      <td>33.0</td>\n",
              "      <td>42.0</td>\n",
              "      <td>9.0</td>\n",
              "      <td>41.0</td>\n",
              "      <td>39.0</td>\n",
              "      <td>32.8</td>\n",
              "    </tr>\n",
              "  </tbody>\n",
              "</table>\n",
              "</div>"
            ],
            "text/plain": [
              "   bed_pop_ratio_rank  bed_surplus_rank  ...  density_rank   agg\n",
              "0                 1.0              43.0  ...          43.0  27.4\n",
              "1                27.0              40.0  ...          42.0  32.6\n",
              "2                 4.0               1.0  ...          34.0  20.7\n",
              "3                24.0              22.5  ...          11.0  22.9\n",
              "4                33.0              42.0  ...          39.0  32.8\n",
              "\n",
              "[5 rows x 6 columns]"
            ]
          },
          "metadata": {
            "tags": []
          },
          "execution_count": 63
        }
      ]
    },
    {
      "cell_type": "code",
      "metadata": {
        "id": "vaM9ej6VlfDt",
        "colab_type": "code",
        "colab": {}
      },
      "source": [
        "final_df['aggregate_rank'] = rank_df['agg']"
      ],
      "execution_count": null,
      "outputs": []
    },
    {
      "cell_type": "code",
      "metadata": {
        "id": "86qoewCElhYf",
        "colab_type": "code",
        "colab": {}
      },
      "source": [
        "county_ranking = final_df[['County','aggregate_rank']]"
      ],
      "execution_count": null,
      "outputs": []
    },
    {
      "cell_type": "code",
      "metadata": {
        "id": "_SqEDurelhi_",
        "colab_type": "code",
        "colab": {}
      },
      "source": [
        "county_ranking = county_ranking.sort_values(by='aggregate_rank', ascending=True)"
      ],
      "execution_count": null,
      "outputs": []
    },
    {
      "cell_type": "code",
      "metadata": {
        "id": "HKLbNqf-lh43",
        "colab_type": "code",
        "colab": {
          "base_uri": "https://localhost:8080/",
          "height": 912
        },
        "outputId": "89472f26-9ab6-45ae-a2e9-e17d402acec3"
      },
      "source": [
        "from google.colab import files\n",
        "\n",
        "# Order counties by aggregate ranking\n",
        "plt.figure(figsize=(15,15))\n",
        "plt.title('County ranking based on COVID 19 preparedness', fontdict={'fontsize': 14.5})\n",
        "sns.barplot(x = county_ranking['aggregate_rank'], y = county_ranking['County'], palette=None)"
      ],
      "execution_count": null,
      "outputs": [
        {
          "output_type": "execute_result",
          "data": {
            "text/plain": [
              "<matplotlib.axes._subplots.AxesSubplot at 0x7f98ba521cf8>"
            ]
          },
          "metadata": {
            "tags": []
          },
          "execution_count": 77
        },
        {
          "output_type": "display_data",
          "data": {
            "image/png": "[encoded data removed]",
            "text/plain": [
              "<Figure size 1080x1080 with 1 Axes>"
            ]
          },
          "metadata": {
            "tags": [],
            "needs_background": "light"
          }
        }
      ]
    },
    {
      "cell_type": "code",
      "metadata": {
        "id": "kBMNA8xWlh2N",
        "colab_type": "code",
        "colab": {
          "base_uri": "https://localhost:8080/",
          "height": 191
        },
        "outputId": "a4d5fd9d-61a6-4b7c-9fb8-da85c14b8f76"
      },
      "source": [
        "# Get top 5 prepared counties\n",
        "best_prepared_counties = county_ranking['County'].head(5).reset_index()\n",
        "best_prepared_counties.drop(['index'], axis=1, inplace=True)\n",
        "best_prepared_counties"
      ],
      "execution_count": null,
      "outputs": [
        {
          "output_type": "execute_result",
          "data": {
            "text/html": [
              "<div>\n",
              "<style scoped>\n",
              "    .dataframe tbody tr th:only-of-type {\n",
              "        vertical-align: middle;\n",
              "    }\n",
              "\n",
              "    .dataframe tbody tr th {\n",
              "        vertical-align: top;\n",
              "    }\n",
              "\n",
              "    .dataframe thead th {\n",
              "        text-align: right;\n",
              "    }\n",
              "</style>\n",
              "<table border=\"1\" class=\"dataframe\">\n",
              "  <thead>\n",
              "    <tr style=\"text-align: right;\">\n",
              "      <th></th>\n",
              "      <th>County</th>\n",
              "    </tr>\n",
              "  </thead>\n",
              "  <tbody>\n",
              "    <tr>\n",
              "      <th>0</th>\n",
              "      <td>MAKUENI</td>\n",
              "    </tr>\n",
              "    <tr>\n",
              "      <th>1</th>\n",
              "      <td>KILIFI</td>\n",
              "    </tr>\n",
              "    <tr>\n",
              "      <th>2</th>\n",
              "      <td>TANA RIVER</td>\n",
              "    </tr>\n",
              "    <tr>\n",
              "      <th>3</th>\n",
              "      <td>ELGEYO-MARAKWET</td>\n",
              "    </tr>\n",
              "    <tr>\n",
              "      <th>4</th>\n",
              "      <td>NANDI</td>\n",
              "    </tr>\n",
              "  </tbody>\n",
              "</table>\n",
              "</div>"
            ],
            "text/plain": [
              "            County\n",
              "0          MAKUENI\n",
              "1           KILIFI\n",
              "2       TANA RIVER\n",
              "3  ELGEYO-MARAKWET\n",
              "4            NANDI"
            ]
          },
          "metadata": {
            "tags": []
          },
          "execution_count": 68
        }
      ]
    },
    {
      "cell_type": "code",
      "metadata": {
        "id": "lCkh2A4hlhgX",
        "colab_type": "code",
        "colab": {
          "base_uri": "https://localhost:8080/",
          "height": 191
        },
        "outputId": "4235562c-7b2a-4d0e-867d-199388ba3b64"
      },
      "source": [
        "# Get top 5 worst prepared counties\n",
        "worst_prepared_counties = county_ranking['County'].tail().reset_index().sort_index(ascending=False)\n",
        "worst_prepared_counties.drop(['index'], axis=1,inplace=True)\n",
        "worst_prepared_counties"
      ],
      "execution_count": null,
      "outputs": [
        {
          "output_type": "execute_result",
          "data": {
            "text/html": [
              "<div>\n",
              "<style scoped>\n",
              "    .dataframe tbody tr th:only-of-type {\n",
              "        vertical-align: middle;\n",
              "    }\n",
              "\n",
              "    .dataframe tbody tr th {\n",
              "        vertical-align: top;\n",
              "    }\n",
              "\n",
              "    .dataframe thead th {\n",
              "        text-align: right;\n",
              "    }\n",
              "</style>\n",
              "<table border=\"1\" class=\"dataframe\">\n",
              "  <thead>\n",
              "    <tr style=\"text-align: right;\">\n",
              "      <th></th>\n",
              "      <th>County</th>\n",
              "    </tr>\n",
              "  </thead>\n",
              "  <tbody>\n",
              "    <tr>\n",
              "      <th>4</th>\n",
              "      <td>KIAMBU</td>\n",
              "    </tr>\n",
              "    <tr>\n",
              "      <th>3</th>\n",
              "      <td>MOMBASA</td>\n",
              "    </tr>\n",
              "    <tr>\n",
              "      <th>2</th>\n",
              "      <td>VIHIGA</td>\n",
              "    </tr>\n",
              "    <tr>\n",
              "      <th>1</th>\n",
              "      <td>UASIN GISHU</td>\n",
              "    </tr>\n",
              "    <tr>\n",
              "      <th>0</th>\n",
              "      <td>KISUMU</td>\n",
              "    </tr>\n",
              "  </tbody>\n",
              "</table>\n",
              "</div>"
            ],
            "text/plain": [
              "        County\n",
              "4       KIAMBU\n",
              "3      MOMBASA\n",
              "2       VIHIGA\n",
              "1  UASIN GISHU\n",
              "0       KISUMU"
            ]
          },
          "metadata": {
            "tags": []
          },
          "execution_count": 69
        }
      ]
    },
    {
      "cell_type": "code",
      "metadata": {
        "id": "aX5e0yt0lhWK",
        "colab_type": "code",
        "colab": {
          "base_uri": "https://localhost:8080/",
          "height": 191
        },
        "outputId": "b406ce34-24f7-44e4-ff3b-3ec175ce85e2"
      },
      "source": [
        "# Among worst prepared counties, which county has the lowest bed to population ratio?\n",
        "ratio_df = final_df[final_df['County'].isin(worst_prepared_counties['County'].to_list())]\n",
        "ratio_df = ratio_df[['bed_pop_ratio','bed_preparedness','County']]\n",
        "ratio_df.rename(columns={'bed_preparedness':'bed_deficit'}, inplace= True)\n",
        "ratio_df['bed_pop_ratio x (10^-5)'] = ratio_df['bed_pop_ratio'] * 100000\n",
        "ratio_df.sort_values(by=['bed_pop_ratio','bed_deficit'])"
      ],
      "execution_count": null,
      "outputs": [
        {
          "output_type": "execute_result",
          "data": {
            "text/html": [
              "<div>\n",
              "<style scoped>\n",
              "    .dataframe tbody tr th:only-of-type {\n",
              "        vertical-align: middle;\n",
              "    }\n",
              "\n",
              "    .dataframe tbody tr th {\n",
              "        vertical-align: top;\n",
              "    }\n",
              "\n",
              "    .dataframe thead th {\n",
              "        text-align: right;\n",
              "    }\n",
              "</style>\n",
              "<table border=\"1\" class=\"dataframe\">\n",
              "  <thead>\n",
              "    <tr style=\"text-align: right;\">\n",
              "      <th></th>\n",
              "      <th>bed_pop_ratio</th>\n",
              "      <th>bed_deficit</th>\n",
              "      <th>County</th>\n",
              "      <th>bed_pop_ratio x (10^-5)</th>\n",
              "    </tr>\n",
              "  </thead>\n",
              "  <tbody>\n",
              "    <tr>\n",
              "      <th>28</th>\n",
              "      <td>0.000010</td>\n",
              "      <td>34.0</td>\n",
              "      <td>VIHIGA</td>\n",
              "      <td>1.016927</td>\n",
              "    </tr>\n",
              "    <tr>\n",
              "      <th>4</th>\n",
              "      <td>0.000014</td>\n",
              "      <td>86.0</td>\n",
              "      <td>KIAMBU</td>\n",
              "      <td>1.406275</td>\n",
              "    </tr>\n",
              "    <tr>\n",
              "      <th>18</th>\n",
              "      <td>0.000017</td>\n",
              "      <td>50.0</td>\n",
              "      <td>KISUMU</td>\n",
              "      <td>1.730742</td>\n",
              "    </tr>\n",
              "    <tr>\n",
              "      <th>1</th>\n",
              "      <td>0.000021</td>\n",
              "      <td>65.0</td>\n",
              "      <td>MOMBASA</td>\n",
              "      <td>2.068966</td>\n",
              "    </tr>\n",
              "    <tr>\n",
              "      <th>8</th>\n",
              "      <td>0.000032</td>\n",
              "      <td>83.0</td>\n",
              "      <td>UASIN GISHU</td>\n",
              "      <td>3.180919</td>\n",
              "    </tr>\n",
              "  </tbody>\n",
              "</table>\n",
              "</div>"
            ],
            "text/plain": [
              "    bed_pop_ratio  bed_deficit       County  bed_pop_ratio x (10^-5)\n",
              "28       0.000010         34.0       VIHIGA                 1.016927\n",
              "4        0.000014         86.0       KIAMBU                 1.406275\n",
              "18       0.000017         50.0       KISUMU                 1.730742\n",
              "1        0.000021         65.0      MOMBASA                 2.068966\n",
              "8        0.000032         83.0  UASIN GISHU                 3.180919"
            ]
          },
          "metadata": {
            "tags": []
          },
          "execution_count": 70
        }
      ]
    },
    {
      "cell_type": "markdown",
      "metadata": {
        "id": "ivEJ8SY9AQei",
        "colab_type": "text"
      },
      "source": [
        "Vihiga has the lowest bed to population ratio with a deficit of 34 beds"
      ]
    },
    {
      "cell_type": "code",
      "metadata": {
        "id": "5E2krr769ln4",
        "colab_type": "code",
        "colab": {
          "base_uri": "https://localhost:8080/",
          "height": 50
        },
        "outputId": "25848db6-8332-47fe-cba1-b98cc9a638ed"
      },
      "source": [
        "# Which county has the lowest bed to population ratio overall?\n",
        "final_df[final_df['bed_pop_ratio'] == final_df['bed_pop_ratio'].min()]['County']"
      ],
      "execution_count": null,
      "outputs": [
        {
          "output_type": "execute_result",
          "data": {
            "text/plain": [
              "25    MERU\n",
              "Name: County, dtype: object"
            ]
          },
          "metadata": {
            "tags": []
          },
          "execution_count": 71
        }
      ]
    },
    {
      "cell_type": "code",
      "metadata": {
        "id": "Ppmg-5lr9l5W",
        "colab_type": "code",
        "colab": {
          "base_uri": "https://localhost:8080/",
          "height": 50
        },
        "outputId": "c0d02671-57f3-4c64-e07a-a1a78e6ce3e1"
      },
      "source": [
        "# Among worst prepared counties which county has the highest density?\n",
        "density_df = final_df[final_df['County'].isin(worst_prepared_counties['County'].to_list())]\n",
        "density_df[density_df['Density'] == density_df['Density'].max()]['County']"
      ],
      "execution_count": null,
      "outputs": [
        {
          "output_type": "execute_result",
          "data": {
            "text/plain": [
              "1    MOMBASA\n",
              "Name: County, dtype: object"
            ]
          },
          "metadata": {
            "tags": []
          },
          "execution_count": 72
        }
      ]
    },
    {
      "cell_type": "code",
      "metadata": {
        "id": "ccO2ZQN3snX9",
        "colab_type": "code",
        "colab": {
          "base_uri": "https://localhost:8080/",
          "height": 260
        },
        "outputId": "2eaa5804-19d0-4cae-9a69-3e0c8bd31c3a"
      },
      "source": [
        "# least five prepared counties in terms of isolating beds to COVID 19\n",
        "final_df.sort_values(by=['bed_preparedness'], ascending=False).head()"
      ],
      "execution_count": null,
      "outputs": [
        {
          "output_type": "execute_result",
          "data": {
            "text/html": [
              "<div>\n",
              "<style scoped>\n",
              "    .dataframe tbody tr th:only-of-type {\n",
              "        vertical-align: middle;\n",
              "    }\n",
              "\n",
              "    .dataframe tbody tr th {\n",
              "        vertical-align: top;\n",
              "    }\n",
              "\n",
              "    .dataframe thead th {\n",
              "        text-align: right;\n",
              "    }\n",
              "</style>\n",
              "<table border=\"1\" class=\"dataframe\">\n",
              "  <thead>\n",
              "    <tr style=\"text-align: right;\">\n",
              "      <th></th>\n",
              "      <th>County</th>\n",
              "      <th>Cumulative Cases</th>\n",
              "      <th>Cases per 100,000 population</th>\n",
              "      <th>2019_Population</th>\n",
              "      <th>Male</th>\n",
              "      <th>Female</th>\n",
              "      <th>Density</th>\n",
              "      <th>hospital_count</th>\n",
              "      <th>Isolation_beds</th>\n",
              "      <th>Recommended_beds</th>\n",
              "      <th>bed_preparedness</th>\n",
              "      <th>bed_surplus_rank</th>\n",
              "      <th>bed_pop_ratio</th>\n",
              "      <th>hospital_count_rank</th>\n",
              "      <th>cases_rank</th>\n",
              "      <th>density_rank</th>\n",
              "      <th>bed_pop_ratio_rank</th>\n",
              "      <th>aggregate_rank</th>\n",
              "    </tr>\n",
              "  </thead>\n",
              "  <tbody>\n",
              "    <tr>\n",
              "      <th>0</th>\n",
              "      <td>NAIROBI</td>\n",
              "      <td>8618.0</td>\n",
              "      <td>196.0</td>\n",
              "      <td>4397073</td>\n",
              "      <td>2,192,452</td>\n",
              "      <td>2,204,376</td>\n",
              "      <td>6247</td>\n",
              "      <td>170</td>\n",
              "      <td>582.0</td>\n",
              "      <td>716.0</td>\n",
              "      <td>134.0</td>\n",
              "      <td>43.0</td>\n",
              "      <td>0.000132</td>\n",
              "      <td>7.0</td>\n",
              "      <td>43.0</td>\n",
              "      <td>43.0</td>\n",
              "      <td>1.0</td>\n",
              "      <td>27.4</td>\n",
              "    </tr>\n",
              "    <tr>\n",
              "      <th>4</th>\n",
              "      <td>KIAMBU</td>\n",
              "      <td>907.0</td>\n",
              "      <td>37.5</td>\n",
              "      <td>2417735</td>\n",
              "      <td>1,187,146</td>\n",
              "      <td>1,230,454</td>\n",
              "      <td>952</td>\n",
              "      <td>165</td>\n",
              "      <td>34.0</td>\n",
              "      <td>120.0</td>\n",
              "      <td>86.0</td>\n",
              "      <td>42.0</td>\n",
              "      <td>0.000014</td>\n",
              "      <td>9.0</td>\n",
              "      <td>41.0</td>\n",
              "      <td>39.0</td>\n",
              "      <td>33.0</td>\n",
              "      <td>32.8</td>\n",
              "    </tr>\n",
              "    <tr>\n",
              "      <th>8</th>\n",
              "      <td>UASIN GISHU</td>\n",
              "      <td>180.0</td>\n",
              "      <td>15.5</td>\n",
              "      <td>1163186</td>\n",
              "      <td>580,269</td>\n",
              "      <td>582,889</td>\n",
              "      <td>342</td>\n",
              "      <td>77</td>\n",
              "      <td>37.0</td>\n",
              "      <td>120.0</td>\n",
              "      <td>83.0</td>\n",
              "      <td>41.0</td>\n",
              "      <td>0.000032</td>\n",
              "      <td>30.5</td>\n",
              "      <td>35.0</td>\n",
              "      <td>25.0</td>\n",
              "      <td>20.0</td>\n",
              "      <td>30.3</td>\n",
              "    </tr>\n",
              "    <tr>\n",
              "      <th>1</th>\n",
              "      <td>MOMBASA</td>\n",
              "      <td>1870.0</td>\n",
              "      <td>154.8</td>\n",
              "      <td>1208333</td>\n",
              "      <td>610,257</td>\n",
              "      <td>598,046</td>\n",
              "      <td>5495</td>\n",
              "      <td>129</td>\n",
              "      <td>25.0</td>\n",
              "      <td>90.0</td>\n",
              "      <td>65.0</td>\n",
              "      <td>40.0</td>\n",
              "      <td>0.000021</td>\n",
              "      <td>12.0</td>\n",
              "      <td>42.0</td>\n",
              "      <td>42.0</td>\n",
              "      <td>27.0</td>\n",
              "      <td>32.6</td>\n",
              "    </tr>\n",
              "    <tr>\n",
              "      <th>34</th>\n",
              "      <td>KAKAMEGA</td>\n",
              "      <td>14.0</td>\n",
              "      <td>0.7</td>\n",
              "      <td>1867579</td>\n",
              "      <td>897,133</td>\n",
              "      <td>970,406</td>\n",
              "      <td>619</td>\n",
              "      <td>217</td>\n",
              "      <td>14.0</td>\n",
              "      <td>70.0</td>\n",
              "      <td>56.0</td>\n",
              "      <td>39.0</td>\n",
              "      <td>0.000007</td>\n",
              "      <td>1.0</td>\n",
              "      <td>15.5</td>\n",
              "      <td>37.0</td>\n",
              "      <td>41.0</td>\n",
              "      <td>26.7</td>\n",
              "    </tr>\n",
              "  </tbody>\n",
              "</table>\n",
              "</div>"
            ],
            "text/plain": [
              "         County  Cumulative Cases  ...  bed_pop_ratio_rank  aggregate_rank\n",
              "0       NAIROBI            8618.0  ...                 1.0            27.4\n",
              "4        KIAMBU             907.0  ...                33.0            32.8\n",
              "8   UASIN GISHU             180.0  ...                20.0            30.3\n",
              "1       MOMBASA            1870.0  ...                27.0            32.6\n",
              "34     KAKAMEGA              14.0  ...                41.0            26.7\n",
              "\n",
              "[5 rows x 18 columns]"
            ]
          },
          "metadata": {
            "tags": []
          },
          "execution_count": 76
        }
      ]
    },
    {
      "cell_type": "markdown",
      "metadata": {
        "id": "qywd_JCUawsj",
        "colab_type": "text"
      },
      "source": [
        "# RECOMMENDATION"
      ]
    },
    {
      "cell_type": "markdown",
      "metadata": {
        "id": "8oXmY659CyLA",
        "colab_type": "text"
      },
      "source": [
        "1) The least five prepared counties in terms of isolating beds to COVID 19 patients are:\n",
        "- Nairobi\n",
        "- Kiambu\n",
        "- Uasin Gishu\n",
        "- Mombasa\n",
        "- Kakamega\n",
        "\n",
        "**Recommendation**: They should consider allocating more beds capacity in preparation to the rise of COVID 19 cases\n",
        "\n",
        "2) The most prepared counties in relation to COVID 19 are:\n",
        "- Makueni\n",
        "- Kilifi\n",
        "- Tana River\n",
        "- Elgeyo Marakwet \n",
        "- Nandi \n",
        "\n",
        "We arrived at this by ranking counties based on bed to population ratio, number of cumulative cases, number of health facilites, isolation bed deficit from recommended, density [number of people per sq km]\n",
        "\n",
        "\n",
        "3) The least five prepared counties to tackle the COVID 19 epidamic are:\n",
        "- KIAMBU\n",
        "- MOMBASA\n",
        "- VIHIGA\n",
        "- UASIN GISHU\n",
        "- KISUMU\n",
        " \n",
        "**Recommendation**: They should consider improving their preparedness by increasing COVID 19 isolations beds in line to their respectiful populations.\n",
        "Also enforcing stricter social distancing measures.\n",
        "\n",
        "4) Among the least five prepared counties, Mombasa has the highest density thus stricter social distancing measures should  be put in place.\n",
        "\n",
        "5) Among all counties, Meru has the lowest bed to population ratio, they should consider improving their preparedness by increasing COVID 19 isolations beds.\n",
        "\n",
        "N/B The data were used is dynamic as counties are putting more isolation beds to COVID 19 patients and the number of confirmed cases are rising drastically across the country."
      ]
    },
    {
      "cell_type": "code",
      "metadata": {
        "id": "XOV6_mxTwJiL",
        "colab_type": "code",
        "colab": {}
      },
      "source": [
        ""
      ],
      "execution_count": null,
      "outputs": []
    }
  ]
}